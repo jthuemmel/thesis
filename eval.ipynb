{
 "cells": [
  {
   "cell_type": "code",
   "execution_count": 1,
   "id": "5a11a5f5",
   "metadata": {},
   "outputs": [],
   "source": [
    "\n",
    "import torch\n",
    "import os\n",
    "import argparse\n",
    "import math\n",
    "import einops\n",
    "import xarray as xr\n",
    "import numpy as np\n",
    "\n",
    "from dataclasses import replace\n",
    "from functools import cached_property\n",
    "from omegaconf import OmegaConf\n",
    "from typing import Tuple, Iterable\n",
    "from torch.nn.attention import SDPBackend, sdpa_kernel\n",
    "\n",
    "import utils.config as cfg\n",
    "from utils.loss_fn import f_kernel_crps, f_gaussian_ignorance\n",
    "from utils.field_network import StochasticWeatherField\n",
    "from utils.dataset import NinoData, MultifileNinoDataset\n",
    "from utils.trainer import DistributedTrainer"
   ]
  },
  {
   "cell_type": "code",
   "execution_count": null,
   "id": "8d2e0219",
   "metadata": {},
   "outputs": [],
   "source": []
  }
 ],
 "metadata": {
  "kernelspec": {
   "display_name": "torch",
   "language": "python",
   "name": "python3"
  },
  "language_info": {
   "codemirror_mode": {
    "name": "ipython",
    "version": 3
   },
   "file_extension": ".py",
   "mimetype": "text/x-python",
   "name": "python",
   "nbconvert_exporter": "python",
   "pygments_lexer": "ipython3",
   "version": "3.13.2"
  }
 },
 "nbformat": 4,
 "nbformat_minor": 5
}
