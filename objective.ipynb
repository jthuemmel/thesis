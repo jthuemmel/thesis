{
 "cells": [
  {
   "cell_type": "code",
   "execution_count": 1,
   "id": "91298168",
   "metadata": {},
   "outputs": [],
   "source": [
    "import torch\n",
    "import einops\n",
    "import math\n",
    "\n",
    "from dataclasses import dataclass\n",
    "\n",
    "from utils.objective import DiscreteDiffusion\n",
    "from utils.config import NetworkConfig, WorldConfig\n"
   ]
  },
  {
   "cell_type": "code",
   "execution_count": 2,
   "id": "25926dc8",
   "metadata": {},
   "outputs": [],
   "source": [
    "import matplotlib.pyplot as plt\n",
    "import numpy as np"
   ]
  },
  {
   "cell_type": "code",
   "execution_count": 3,
   "id": "c8f93ab0",
   "metadata": {},
   "outputs": [],
   "source": [
    "def exists(val):\n",
    "    return val is not None\n",
    "\n",
    "def default(val, d):\n",
    "    return val if exists(val) else d"
   ]
  },
  {
   "cell_type": "code",
   "execution_count": 4,
   "id": "4339d0a5",
   "metadata": {},
   "outputs": [],
   "source": [
    "\n",
    "@dataclass\n",
    "class ConfigWrapper:\n",
    "    world : WorldConfig\n",
    "    network : NetworkConfig"
   ]
  },
  {
   "cell_type": "code",
   "execution_count": 5,
   "id": "72f0a695",
   "metadata": {},
   "outputs": [],
   "source": [
    "model_cfg = NetworkConfig(\n",
    "    dim = 256, \n",
    "    num_layers=4, \n",
    "    num_compute_blocks=4,\n",
    "    dim_in = 480,\n",
    "    dim_out = 960,\n",
    "    dim_coords = 128,\n",
    "    wavelengths=[(1e-3, 1e2,), (1e-3, 1e2), (1e-3, 1e2,), (1e-3, 1e2,)], \n",
    "    num_latents=64)\n",
    "\n",
    "world_cfg = WorldConfig(\n",
    "    field_sizes = {'v': 9, 't': 36, 'h': 64, 'w': 120},\n",
    "    patch_sizes = {'vv': 1, 'tt': 6, 'hh': 8, 'ww': 10},\n",
    "    batch_size = 8,\n",
    "    tau = 2,\n",
    "    alphas = {'t': 0.5, 'v': 1.},\n",
    ")\n",
    "\n",
    "cfg = ConfigWrapper(\n",
    "    world = world_cfg,\n",
    "    network = model_cfg\n",
    ")"
   ]
  },
  {
   "cell_type": "code",
   "execution_count": 6,
   "id": "1f3458a8",
   "metadata": {},
   "outputs": [],
   "source": [
    "dd = DiscreteDiffusion(cfg)\n",
    "\n",
    "### TOKENIZATION\n",
    "@staticmethod\n",
    "def field_to_tokens(world, field):\n",
    "    return einops.rearrange(field, \n",
    "                            f'{world.field_pattern} -> {world.flatland_pattern}',\n",
    "                            **world.patch_sizes)\n",
    "\n",
    "@staticmethod\n",
    "def tokens_to_field(world, patch):\n",
    "    return einops.rearrange(patch, \n",
    "                            f\"{world.flatland_pattern} ... -> {world.field_pattern} ...\",\n",
    "                            **world.token_sizes, **world.patch_sizes)"
   ]
  },
  {
   "cell_type": "code",
   "execution_count": 7,
   "id": "a2a3911e",
   "metadata": {},
   "outputs": [],
   "source": [
    "data = torch.randn((world_cfg.batch_size, *world_cfg.field_sizes.values()))\n",
    "loss = dd(field_to_tokens(world_cfg, data))"
   ]
  },
  {
   "cell_type": "code",
   "execution_count": 8,
   "id": "2c74b55c",
   "metadata": {},
   "outputs": [
    {
     "data": {
      "text/plain": [
       "tensor(0.7915, grad_fn=<MeanBackward0>)"
      ]
     },
     "execution_count": 8,
     "metadata": {},
     "output_type": "execute_result"
    }
   ],
   "source": [
    "loss"
   ]
  },
  {
   "cell_type": "code",
   "execution_count": null,
   "id": "91cbfcef",
   "metadata": {},
   "outputs": [],
   "source": []
  },
  {
   "cell_type": "code",
   "execution_count": null,
   "id": "046345c3",
   "metadata": {},
   "outputs": [],
   "source": []
  },
  {
   "cell_type": "code",
   "execution_count": null,
   "id": "07de8645",
   "metadata": {},
   "outputs": [],
   "source": []
  }
 ],
 "metadata": {
  "kernelspec": {
   "display_name": "torch",
   "language": "python",
   "name": "python3"
  },
  "language_info": {
   "codemirror_mode": {
    "name": "ipython",
    "version": 3
   },
   "file_extension": ".py",
   "mimetype": "text/x-python",
   "name": "python",
   "nbconvert_exporter": "python",
   "pygments_lexer": "ipython3",
   "version": "3.13.2"
  }
 },
 "nbformat": 4,
 "nbformat_minor": 5
}
