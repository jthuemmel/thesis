{
 "cells": [
  {
   "cell_type": "code",
   "execution_count": 1,
   "id": "91298168",
   "metadata": {},
   "outputs": [],
   "source": [
    "import torch\n",
    "import einops\n",
    "import math\n",
    "\n",
    "from dataclasses import dataclass\n",
    "\n",
    "from utils.objective import DiscreteDiffusion\n",
    "from utils.config import NetworkConfig, WorldConfig\n"
   ]
  },
  {
   "cell_type": "code",
   "execution_count": 2,
   "id": "25926dc8",
   "metadata": {},
   "outputs": [],
   "source": [
    "import matplotlib.pyplot as plt\n",
    "import numpy as np"
   ]
  },
  {
   "cell_type": "code",
   "execution_count": 3,
   "id": "c8f93ab0",
   "metadata": {},
   "outputs": [],
   "source": [
    "def exists(val):\n",
    "    return val is not None\n",
    "\n",
    "def default(val, d):\n",
    "    return val if exists(val) else d\n",
    "\n",
    "\n",
    "def count_parameters(model):\n",
    "    return sum(p.numel() for p in model.parameters() if p.requires_grad)\n",
    "\n",
    "device = torch.device('cuda') if torch.cuda.is_available() else torch.device('cpu')"
   ]
  },
  {
   "cell_type": "code",
   "execution_count": 4,
   "id": "4339d0a5",
   "metadata": {},
   "outputs": [],
   "source": [
    "@dataclass\n",
    "class ConfigWrapper:\n",
    "    world : WorldConfig\n",
    "    network : NetworkConfig"
   ]
  },
  {
   "cell_type": "code",
   "execution_count": 5,
   "id": "72f0a695",
   "metadata": {},
   "outputs": [],
   "source": [
    "world_cfg = WorldConfig(\n",
    "    field_sizes = {'v': 9, 't': 36, 'h': 64, 'w': 120},\n",
    "    patch_sizes = {'vv': 1, 'tt': 6, 'hh': 4, 'ww': 4},\n",
    "    batch_size = 16,\n",
    "    tau = 2,\n",
    "    alphas = {'t': 0.5, 'v': 1.},\n",
    ")\n",
    "\n",
    "model_cfg = NetworkConfig(\n",
    "    dim = 768, \n",
    "    num_layers=2, \n",
    "    num_compute_blocks=12,\n",
    "    dim_in = world_cfg.dim_tokens,\n",
    "    dim_out = world_cfg.dim_tokens * 4,\n",
    "    dim_coords = 128,\n",
    "    wavelengths=[(1e-3, 1e2,), (1e-3, 1e2), (1e-3, 1e2,), (1e-3, 1e2,)], \n",
    "    num_latents=256,\n",
    "    use_checkpoint=True)\n",
    "\n",
    "cfg = ConfigWrapper(\n",
    "    world = world_cfg,\n",
    "    network = model_cfg\n",
    ")"
   ]
  },
  {
   "cell_type": "code",
   "execution_count": 6,
   "id": "e59eba79",
   "metadata": {},
   "outputs": [],
   "source": [
    "### TOKENIZATION\n",
    "@staticmethod\n",
    "def field_to_tokens(world, field):\n",
    "    return einops.rearrange(field, \n",
    "                            f'{world.field_pattern} -> {world.flatland_pattern}',\n",
    "                            **world.patch_sizes)\n",
    "\n",
    "@staticmethod\n",
    "def tokens_to_field(world, patch):\n",
    "    return einops.rearrange(patch, \n",
    "                            f\"{world.flatland_pattern} ... -> {world.field_pattern} ...\",\n",
    "                            **world.token_sizes, **world.patch_sizes)"
   ]
  },
  {
   "cell_type": "code",
   "execution_count": null,
   "id": "f4246642",
   "metadata": {},
   "outputs": [],
   "source": []
  },
  {
   "cell_type": "code",
   "execution_count": 7,
   "id": "1f3458a8",
   "metadata": {},
   "outputs": [
    {
     "name": "stdout",
     "output_type": "stream",
     "text": [
      "169,242,240\n"
     ]
    }
   ],
   "source": [
    "dd = DiscreteDiffusion(cfg, device= device)\n",
    "dd.network.compile(fullgraph=True)\n",
    "\n",
    "print(f'{count_parameters(dd.network):,}')\n",
    "data = torch.randn((world_cfg.batch_size, *world_cfg.field_sizes.values()), device = device)"
   ]
  },
  {
   "cell_type": "code",
   "execution_count": null,
   "id": "64a98248",
   "metadata": {},
   "outputs": [],
   "source": [
    "with torch.amp.autocast('cuda'):\n",
    "    tokens = field_to_tokens(world_cfg, data)\n",
    "    loss, obs, ens, visible = dd(tokens)\n",
    "    loss.backward()"
   ]
  },
  {
   "cell_type": "code",
   "execution_count": null,
   "id": "07de8645",
   "metadata": {},
   "outputs": [],
   "source": []
  }
 ],
 "metadata": {
  "kernelspec": {
   "display_name": "torch",
   "language": "python",
   "name": "python3"
  },
  "language_info": {
   "codemirror_mode": {
    "name": "ipython",
    "version": 3
   },
   "file_extension": ".py",
   "mimetype": "text/x-python",
   "name": "python",
   "nbconvert_exporter": "python",
   "pygments_lexer": "ipython3",
   "version": "3.13.2"
  }
 },
 "nbformat": 4,
 "nbformat_minor": 5
}
