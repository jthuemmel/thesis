{
 "cells": [
  {
   "cell_type": "code",
   "execution_count": null,
   "id": "91298168",
   "metadata": {},
   "outputs": [],
   "source": [
    "import torch\n",
    "import einops\n",
    "import math\n",
    "\n",
    "from einops.torch.layers import Rearrange\n",
    "from dataclasses import dataclass\n",
    "\n",
    "from utils.config import NetworkConfig, WorldConfig\n",
    "from utils.components import *\n"
   ]
  },
  {
   "cell_type": "code",
   "execution_count": null,
   "id": "1a570a27",
   "metadata": {},
   "outputs": [],
   "source": [
    "import numpy as np\n",
    "\n",
    "def octahedral_grid(n_lats: int):\n",
    "    \"\"\"\n",
    "    Create an octahedral reduced Gaussian grid with n_lats latitude bands\n",
    "    (one hemisphere; the function mirrors it so there are 2*n_lats bands in total).\n",
    "    \"\"\"\n",
    "    n_lats = 2 * n_lats  # include the southern hemisphere\n",
    "    latitudes = np.linspace(90, -90, n_lats)\n",
    "    o_rgg = []\n",
    "    for i in range(n_lats):\n",
    "        # Use endpoint=False so that 0 and 360 are not both included.\n",
    "        if i < n_lats // 2:\n",
    "            n_lons = 4 * i + 16\n",
    "        else:\n",
    "            n_lons = 4 * (n_lats - i - 1) + 16\n",
    "        longitudes = np.linspace(0, 360, n_lons, endpoint=False)\n",
    "        for lon in longitudes:\n",
    "            o_rgg.append((latitudes[i], lon))\n",
    "    return np.array(o_rgg, dtype=np.float32)"
   ]
  },
  {
   "cell_type": "code",
   "execution_count": null,
   "id": "5bbab18a",
   "metadata": {},
   "outputs": [],
   "source": [
    "B, V, T, Z, O = 1, 5, 20, 13, 48000"
   ]
  }
 ],
 "metadata": {
  "kernelspec": {
   "display_name": "torch",
   "language": "python",
   "name": "python3"
  },
  "language_info": {
   "codemirror_mode": {
    "name": "ipython",
    "version": 3
   },
   "file_extension": ".py",
   "mimetype": "text/x-python",
   "name": "python",
   "nbconvert_exporter": "python",
   "pygments_lexer": "ipython3",
   "version": "3.13.2"
  }
 },
 "nbformat": 4,
 "nbformat_minor": 5
}
