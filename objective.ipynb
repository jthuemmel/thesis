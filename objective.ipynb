{
 "cells": [
  {
   "cell_type": "code",
   "execution_count": 1,
   "id": "91298168",
   "metadata": {},
   "outputs": [],
   "source": [
    "import torch\n",
    "import einops\n",
    "import math\n",
    "\n",
    "from einops.layers.torch import Rearrange\n",
    "from dataclasses import dataclass\n",
    "\n",
    "from utils.config import NetworkConfig, WorldConfig\n",
    "from utils.components import *\n",
    "\n",
    "import matplotlib.pyplot as plt\n",
    "import numpy as np\n",
    "import xarray as xr"
   ]
  },
  {
   "cell_type": "code",
   "execution_count": 2,
   "id": "73b68f93",
   "metadata": {},
   "outputs": [],
   "source": [
    "from einops.layers.torch import EinMix"
   ]
  },
  {
   "cell_type": "code",
   "execution_count": 3,
   "id": "1dbd6062",
   "metadata": {},
   "outputs": [],
   "source": [
    "from utils.components import InterfaceBlock"
   ]
  },
  {
   "cell_type": "code",
   "execution_count": 25,
   "id": "60eeafbe",
   "metadata": {},
   "outputs": [],
   "source": [
    "world = WorldConfig(\n",
    "    {\"v\": 4, \"t\": 36, 'h': 64, 'w': 120}, \n",
    "    {'vv': 1, 'tt': 6, 'hh': 4, \"ww\": 4}, \n",
    "    tau= 2, alphas={}, timestep= 'framewise', mask= 'bernoulli', schedule='cosine')"
   ]
  },
  {
   "cell_type": "code",
   "execution_count": null,
   "id": "5371dc4a",
   "metadata": {},
   "outputs": [],
   "source": [
    "D = 128\n",
    "to_tokens = EinMix(f'b {world.flat_token_pattern} {world.flat_patch_pattern} -> b {world.flat_token_pattern} d',\n",
    "                    weight_shape = f'v {' '.join(world.patch_layout)} d',\n",
    "                    bias_shape='v d',\n",
    "                    d = D, **world.patch_sizes, **world.token_sizes)\n",
    "        \n",
    "to_field = EinMix(f'b {world.flat_token_pattern} d -> b {world.flat_token_pattern} {world.flat_patch_pattern} e',\n",
    "                    weight_shape = f'v {' '.join(world.patch_layout)} e d',\n",
    "                    e = 4,\n",
    "                    d = D, **world.patch_sizes, **world.token_sizes)"
   ]
  },
  {
   "cell_type": "code",
   "execution_count": null,
   "id": "965356b2",
   "metadata": {},
   "outputs": [],
   "source": []
  },
  {
   "cell_type": "code",
   "execution_count": 33,
   "id": "2c3c0432",
   "metadata": {},
   "outputs": [
    {
     "data": {
      "text/plain": [
       "True"
      ]
     },
     "execution_count": 33,
     "metadata": {},
     "output_type": "execute_result"
    }
   ],
   "source": [
    "isinstance(to_tokens.weight, torch.nn.Parameter)"
   ]
  },
  {
   "cell_type": "code",
   "execution_count": 27,
   "id": "a0e11f84",
   "metadata": {},
   "outputs": [
    {
     "name": "stdout",
     "output_type": "stream",
     "text": [
      "torch.Size([4, 1, 6, 4, 4, 128])\n",
      "torch.Size([4, 1, 6, 4, 4, 4, 128])\n"
     ]
    }
   ],
   "source": [
    "print(to_tokens.weight.shape)\n",
    "print(to_field.weight.shape)\n"
   ]
  },
  {
   "cell_type": "code",
   "execution_count": 28,
   "id": "49a7b66c",
   "metadata": {},
   "outputs": [],
   "source": [
    "field = torch.randn((1, world.num_tokens, world.dim_tokens))"
   ]
  },
  {
   "cell_type": "code",
   "execution_count": 29,
   "id": "3c5deca4",
   "metadata": {},
   "outputs": [],
   "source": [
    "tokens = to_tokens.cuda()(field.cuda())\n",
    "rec = to_field.cuda()(tokens)"
   ]
  },
  {
   "cell_type": "code",
   "execution_count": 10,
   "id": "1a570a27",
   "metadata": {},
   "outputs": [],
   "source": [
    "\n",
    "def octahedral_grid(n_lats: int):\n",
    "    \"\"\"\n",
    "    Create an octahedral reduced Gaussian grid with n_lats latitude bands\n",
    "    (one hemisphere; the function mirrors it so there are 2*n_lats bands in total).\n",
    "    \"\"\"\n",
    "    n_lats = 2 * n_lats  # include the southern hemisphere\n",
    "    latitudes = np.linspace(90, -90, n_lats)\n",
    "    o_rgg = []\n",
    "    for i in range(n_lats):\n",
    "        # Use endpoint=False so that 0 and 360 are not both included.\n",
    "        if i < n_lats // 2:\n",
    "            n_lons = 4 * i + 16\n",
    "        else:\n",
    "            n_lons = 4 * (n_lats - i - 1) + 16\n",
    "        longitudes = np.linspace(0, 360, n_lons, endpoint=False)\n",
    "        for lon in longitudes:\n",
    "            o_rgg.append((latitudes[i], lon))\n",
    "    return np.array(o_rgg, dtype=np.float32)"
   ]
  },
  {
   "cell_type": "code",
   "execution_count": 11,
   "id": "37c55357",
   "metadata": {},
   "outputs": [],
   "source": [
    "og = octahedral_grid(48)"
   ]
  },
  {
   "cell_type": "code",
   "execution_count": null,
   "id": "2399b1b5",
   "metadata": {},
   "outputs": [],
   "source": []
  }
 ],
 "metadata": {
  "kernelspec": {
   "display_name": "torch",
   "language": "python",
   "name": "python3"
  },
  "language_info": {
   "codemirror_mode": {
    "name": "ipython",
    "version": 3
   },
   "file_extension": ".py",
   "mimetype": "text/x-python",
   "name": "python",
   "nbconvert_exporter": "python",
   "pygments_lexer": "ipython3",
   "version": "3.13.2"
  }
 },
 "nbformat": 4,
 "nbformat_minor": 5
}
