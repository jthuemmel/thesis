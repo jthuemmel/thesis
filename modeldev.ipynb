{
 "cells": [
  {
   "cell_type": "code",
   "execution_count": 49,
   "id": "4330e6a5",
   "metadata": {},
   "outputs": [],
   "source": [
    "import torch\n",
    "\n",
    "from torch.nn import Module, Embedding, Linear, ModuleList\n",
    "from einops import rearrange, reduce, repeat\n",
    "from utils.components import TransformerBlock, ConditionalLayerNorm, GatedFFN, Attention\n",
    "\n",
    "from dataclasses import dataclass\n",
    "from typing import Optional, Tuple, Union, Callable, Dict\n",
    "\n",
    "from utils.multimodal import ModalMTM, ModalTailMTM, ModalFuncMTM\n",
    "from utils.loss_fn import f_kernel_crps\n",
    "\n",
    "from torch import autocast\n",
    "\n",
    "import matplotlib.pyplot as plt\n",
    "import numpy as np"
   ]
  },
  {
   "cell_type": "code",
   "execution_count": null,
   "id": "ac4dc0c6",
   "metadata": {},
   "outputs": [],
   "source": [
    "# ===================== Masking: Factor algebra + Recipes =====================\n",
    "\n",
    "from dataclasses import dataclass\n",
    "from typing import Dict, Tuple, Iterable, Sequence, Optional, Callable, List\n",
    "\n",
    "import string\n",
    "import torch\n",
    "from einops import rearrange, reduce\n",
    "\n",
    "# ---- Aliases ----\n",
    "Name  = str\n",
    "Scope = Tuple[Name, ...]\n",
    "Sizes = Dict[Name, int]\n",
    "\n",
    "# ---- Helpers ----\n",
    "def shape_for(scope: Scope, sizes: Sizes) -> Tuple[int, ...]:\n",
    "    return tuple(int(sizes[a]) for a in scope)\n",
    "\n",
    "_SYM = list(string.ascii_letters)\n",
    "def ax2sym(order: Sequence[Name]) -> Dict[Name, str]:\n",
    "    if len(set(order)) != len(order): raise ValueError(\"Duplicate axes\")\n",
    "    if len(order) > len(_SYM): raise ValueError(\"Too many axes\")\n",
    "    return {ax: _SYM[i] for i, ax in enumerate(order)}\n",
    "\n",
    "# ---- Core Factor (math-first) ----\n",
    "@dataclass\n",
    "class Factor:\n",
    "    scope: Scope\n",
    "    tensor: torch.Tensor  # shape matches scope\n",
    "\n",
    "    def check(self, sizes: Sizes):\n",
    "        exp = shape_for(self.scope, sizes)\n",
    "        if tuple(self.tensor.shape) != exp:\n",
    "            raise ValueError(f\"shape {tuple(self.tensor.shape)} != expected {exp} for scope {self.scope}\")\n",
    "\n",
    "    def reorder(self, new_scope: Scope) -> \"Factor\":\n",
    "        old = list(self.scope)\n",
    "        if set(old) != set(new_scope): raise ValueError(\"Reorder requires identical axis set.\")\n",
    "        perm = [old.index(a) for a in new_scope]\n",
    "        return Factor(tuple(new_scope), self.tensor.permute(perm).contiguous())\n",
    "\n",
    "    def condition(self, evidence: Dict[Name, int]) -> \"Factor\":\n",
    "        x, keep, idx = self.tensor, [], []\n",
    "        for ax in self.scope:\n",
    "            if ax in evidence: idx.append(int(evidence[ax]))\n",
    "            else: idx.append(slice(None)); keep.append(ax)\n",
    "        return Factor(tuple(keep), x[tuple(idx)])\n",
    "\n",
    "    def eliminate(self, axes: Iterable[Name], op: str = \"sum\") -> \"Factor\":\n",
    "        axes = tuple(axes)\n",
    "        keep = tuple(a for a in self.scope if a not in axes)\n",
    "        if not axes: return self\n",
    "        pin  = \" \".join(self.scope) or \"()\"\n",
    "        pout = \" \".join(keep) or \"()\"\n",
    "        y = reduce(self.tensor, f\"{pin} -> {pout}\", reduction=op)  # sum|max|mean|logsumexp|min|prod\n",
    "        return Factor(keep, y)\n",
    "\n",
    "    def normalize(self, over: Iterable[Name]) -> \"Factor\":\n",
    "        over = tuple(over)\n",
    "        if not over: return self\n",
    "        keep = tuple(a for a in self.scope if a not in over)\n",
    "        pin, pkeep = \" \".join(self.scope) or \"()\", \" \".join(keep) or \"()\"\n",
    "        Z = reduce(self.tensor, f\"{pin} -> {pkeep}\", reduction=\"sum\")\n",
    "        sizes = {ax: self.tensor.size(self.scope.index(ax)) for ax in over}\n",
    "        Zfull = rearrange(Z, f\"{pkeep} -> {pin}\", **sizes)\n",
    "        return Factor(self.scope, self.tensor / (Zfull + 1e-12))\n",
    "\n",
    "# ---- Product via einsum (plates replicated as unit factors) ----\n",
    "def product(\n",
    "    factors: Sequence[Factor],\n",
    "    sizes: Sizes,\n",
    "    out_order: Optional[Scope] = None,\n",
    "    plates: Sequence[Name] = (),  # e.g. ('b',)\n",
    ") -> Factor:\n",
    "    if not factors: raise ValueError(\"No factors\")\n",
    "    device = factors[0].tensor.device\n",
    "    for f in factors: f.check(sizes)\n",
    "\n",
    "    # union in first-seen order\n",
    "    seen: List[Name] = []\n",
    "    for f in factors:\n",
    "        for a in f.scope:\n",
    "            if a not in seen: seen.append(a)\n",
    "    union: List[Name] = list(out_order) if out_order else seen\n",
    "\n",
    "    # inject unit plate factors if absent\n",
    "    present = set().union(*[set(f.scope) for f in factors])\n",
    "    unit = [Factor((p,), torch.ones(sizes[p], device=device)) for p in plates if p not in present]\n",
    "    allF = list(factors) + unit\n",
    "\n",
    "    order = tuple(union + [p for p in plates if p not in union])\n",
    "    a2s   = ax2sym(order)\n",
    "    lhs   = \",\".join(\"\".join(a2s[a] for a in f.scope) for f in allF)\n",
    "    rhs   = \"\".join(a2s[a] for a in order)\n",
    "    out   = torch.einsum(f\"{lhs}->{rhs}\", *[f.tensor for f in allF])\n",
    "    return Factor(order, out)\n",
    "\n",
    "# ---- Optional sparse view: Support (batched indices) ----\n",
    "@dataclass\n",
    "class Support:\n",
    "    over:   Scope                 # flattened set (N = ∏ sizes[over])\n",
    "    plates: Scope = tuple()       # rows (R = ∏ sizes[plates])\n",
    "    idx:    torch.LongTensor = None  # (R, k) or (1, k) if plates=()\n",
    "\n",
    "def support_to_factor(\n",
    "    S: Support, sizes: Sizes, *, sampler: \"SamplingMixin\", dtype=None, device=None\n",
    ") -> Factor:\n",
    "    rows = 1 if not S.plates else int(torch.tensor([sizes[a] for a in S.plates]).prod().item())\n",
    "    N    = int(torch.tensor([sizes[a] for a in S.over]).prod().item())\n",
    "    idx  = S.idx if S.idx.size(0) == rows else S.idx.expand(rows, -1)\n",
    "\n",
    "    device = device or idx.device\n",
    "    dtype  = dtype or torch.float32\n",
    "    bin_rowsN = sampler.index_to_binary((rows, N), idx).to(dtype)\n",
    "\n",
    "    if S.plates:\n",
    "        bin_tensor = rearrange(\n",
    "            bin_rowsN,\n",
    "            f\"({' '.join(S.plates)}) ({' '.join(S.over)}) -> {' '.join(S.over)} {' '.join(S.plates)}\",\n",
    "            **{ax: sizes[ax] for ax in (*S.plates, *S.over)}\n",
    "        )\n",
    "        scope = tuple([*S.over, *S.plates])\n",
    "    else:\n",
    "        bin_tensor = rearrange(\n",
    "            bin_rowsN, f\"1 ({' '.join(S.over)}) -> {' '.join(S.over)}\",\n",
    "            **{ax: sizes[ax] for ax in S.over}\n",
    "        )\n",
    "        scope = S.over\n",
    "    return Factor(scope, bin_tensor)\n",
    "\n",
    "# ---- Pickers & Rate hooked to SamplingMixin ----\n",
    "def pick_topk(base: torch.Tensor, k: int, *, sampler: \"SamplingMixin\") -> torch.LongTensor:\n",
    "    return sampler.topk_idx(base, k)\n",
    "\n",
    "def pick_multinomial(base: torch.Tensor, k: int, *, sampler: \"SamplingMixin\") -> torch.LongTensor:\n",
    "    probs = base / (base.sum(dim=-1, keepdim=True) + 1e-12)\n",
    "    return sampler.multinomial_idx(probs, k)\n",
    "\n",
    "def rate_trunc_normal(mean: float, std: float = 0.0, a: float = 0.0, b: float = 1.0):\n",
    "    def _r(N: int, *, sampler: \"SamplingMixin\") -> int:\n",
    "        r = sampler.trunc_normal((1,), mean=mean, std=std, a=a, b=b)\n",
    "        return int(torch.clamp(torch.round(r * N), 0, N).item())\n",
    "    return _r\n",
    "\n",
    "# ---- Selection (per-plate, no sharing) ----\n",
    "def select(\n",
    "    logits: Factor,\n",
    "    sizes: Sizes,\n",
    "    *,\n",
    "    over:   Scope,\n",
    "    plates: Scope = tuple(),\n",
    "    rate:   Callable[[int], int],   # called as rate(N, sampler=sampler)\n",
    "    pick:   Callable[[torch.Tensor, int], torch.LongTensor],  # called as pick(base, k, sampler=sampler)\n",
    "    sampler: \"SamplingMixin\",\n",
    "    return_binary: bool = True,\n",
    ") -> Tuple[Support, Optional[Factor]]:\n",
    "    # 1) Reorder to (over..., plates...)\n",
    "    target = tuple([*over, *plates])\n",
    "    if logits.scope != target:\n",
    "        pin  = \" \".join(logits.scope) or \"()\"\n",
    "        pout = \" \".join(target) or \"()\"\n",
    "        x = rearrange(\n",
    "            logits.tensor, f\"{pin} -> {pout}\",\n",
    "            **{ax: sizes[ax] for ax in target if ax not in logits.scope}\n",
    "        )\n",
    "    else:\n",
    "        x = logits.tensor\n",
    "\n",
    "    # 2) Flatten to rows×N\n",
    "    if plates:\n",
    "        flat = rearrange(x, f\"{' '.join(over)} {' '.join(plates)} -> ({' '.join(plates)}) ({' '.join(over)})\")\n",
    "    else:\n",
    "        flat = rearrange(x, f\"{' '.join(over)} -> 1 ({' '.join(over)})\")\n",
    "\n",
    "    rows, N = flat.size()\n",
    "    k = max(0, min(N, int(rate(N, sampler=sampler))))\n",
    "\n",
    "    # 3) Per-row pick\n",
    "    idx = pick(flat, k, sampler=sampler)  # (rows, k)\n",
    "\n",
    "    S = Support(over=over, plates=plates, idx=idx)\n",
    "    if not return_binary:\n",
    "        return S, None\n",
    "\n",
    "    binF = support_to_factor(S, sizes, sampler=sampler, dtype=x.dtype, device=x.device)\n",
    "    return S, binF\n",
    "\n",
    "# ===================== Tiny Recipe layer =====================\n",
    "\n",
    "PriorFn = Callable[[\"SamplingMixin\", Sizes], Factor]\n",
    "\n",
    "def Dir(axes: Scope, *, sharpness: float, logits: float = 1.0) -> PriorFn:\n",
    "    def _fn(sampler, sizes):\n",
    "        shape = tuple(sizes[a] for a in axes)\n",
    "        return Factor(axes, sampler.dirichlet(shape, logits=logits, sharpness=sharpness))\n",
    "    return _fn\n",
    "\n",
    "def Ones(axes: Scope) -> PriorFn:\n",
    "    def _fn(sampler, sizes):\n",
    "        shape = tuple(sizes[a] for a in axes)\n",
    "        return Factor(axes, sampler.constant(shape, 1.0))\n",
    "    return _fn\n",
    "\n",
    "@dataclass(frozen=True)\n",
    "class Recipe:\n",
    "    priors: Sequence[PriorFn]\n",
    "    out_order: Scope\n",
    "    plates: Scope = tuple()\n",
    "    select_over: Scope = tuple()\n",
    "    pick: Callable = pick_multinomial\n",
    "    rate: Callable = lambda N, *, sampler: N  # default: no sparsity\n",
    "\n",
    "    def __call__(self, sampler: \"SamplingMixin\", sizes: Sizes, *, return_binary=True):\n",
    "        # 1) sample priors\n",
    "        factors = [p(sampler, sizes) for p in self.priors]\n",
    "        # 2) product to logits (replicate to plates)\n",
    "        logits = product(factors, sizes, out_order=self.out_order, plates=self.plates)\n",
    "        # 3) eliminate any extra dims not in select_over ∪ plates (safety)\n",
    "        extra = tuple(ax for ax in logits.scope if ax not in self.select_over and ax not in self.plates)\n",
    "        if extra: logits = logits.eliminate(extra, op=\"sum\")\n",
    "        # 4) select per plate\n",
    "        support, maskF = select(\n",
    "            logits=logits, sizes=sizes,\n",
    "            over=self.select_over, plates=self.plates,\n",
    "            rate=lambda N, *, sampler=sampler: self.rate(N, sampler=sampler),\n",
    "            pick=lambda base, k, *, sampler=sampler: self.pick(base, k, sampler=sampler),\n",
    "            sampler=sampler, return_binary=return_binary\n",
    "        )\n",
    "        return support, maskF\n",
    "\n",
    "# ---- Example recipes/registry (customize as you like) ----\n",
    "RECIPES: Dict[str, Recipe] = {\n",
    "    # gate over (t,v), then full tvhw selection per b\n",
    "    \"final\": Recipe(\n",
    "        priors=[\n",
    "            Dir((\"t\",), sharpness=3.0),     # φ_t(t)\n",
    "            Dir((\"v\",), sharpness=2.0),     # φ_v(v)\n",
    "            Ones((\"h\",\"w\")),                # constant over spatial\n",
    "        ],\n",
    "        out_order=(\"t\",\"v\",\"h\",\"w\",\"b\"),\n",
    "        plates=(\"b\",),\n",
    "        select_over=(\"t\",\"v\",\"h\",\"w\"),\n",
    "        pick=pick_multinomial,\n",
    "        rate=rate_trunc_normal(mean=0.12, std=0.05, a=0.02, b=0.30),\n",
    "    ),\n",
    "    # forecast-style (tv only) per b\n",
    "    \"forecast\": Recipe(\n",
    "        priors=[Dir((\"t\",), sharpness=3.0), Dir((\"v\",), sharpness=1.5)],\n",
    "        out_order=(\"t\",\"v\",\"b\"),\n",
    "        plates=(\"b\",),\n",
    "        select_over=(\"t\",\"v\"),\n",
    "        pick=pick_topk,\n",
    "        rate=rate_trunc_normal(mean=0.30, std=0.10, a=0.10, b=0.60),\n",
    "    ),\n",
    "    # spatial block selection per b\n",
    "    \"block_hw\": Recipe(\n",
    "        priors=[Ones((\"t\",\"v\")), Dir((\"h\",\"w\"), sharpness=1.0)],\n",
    "        out_order=(\"t\",\"v\",\"h\",\"w\",\"b\"),\n",
    "        plates=(\"b\",),\n",
    "        select_over=(\"h\",\"w\"),\n",
    "        pick=pick_topk,\n",
    "        rate=rate_trunc_normal(mean=0.10, std=0.0),\n",
    "    ),\n",
    "}\n",
    "\n",
    "# ---- Convenience for Trainer ----\n",
    "def make_mask(kind: str, sampler: \"SamplingMixin\", sizes: Sizes):\n",
    "    support, maskF = RECIPES[kind](sampler, sizes, return_binary=True)\n",
    "    return support.idx, maskF\n"
   ]
  },
  {
   "cell_type": "code",
   "execution_count": null,
   "id": "121941b2",
   "metadata": {},
   "outputs": [],
   "source": [
    "from dataclasses import dataclass, field\n",
    "from typing import Dict, Tuple, Iterable, Optional, Mapping, Callable\n",
    "import torch\n",
    "from einops import rearrange\n",
    "\n",
    "def exists(val):\n",
    "    return val is not None\n",
    "\n",
    "def default(val, d):\n",
    "    return val if exists(val) else d\n",
    "\n",
    "\n",
    "Axes = Tuple[str, ...]\n",
    "Sizes = Mapping[str, int]\n",
    "\n",
    "# ---------- Sampling primitives ----------\n",
    "class SamplingMixin:\n",
    "    def constant(self, shape, val=1.):\n",
    "        return torch.as_tensor(val, device=self.device).broadcast_to(shape)\n",
    "\n",
    "    def dirichlet(self, shape, logits=1.0, sharpness=1.0):\n",
    "        alpha = sharpness * self.constant(shape, logits).softmax(-1)\n",
    "        return torch._sample_dirichlet(alpha, generator=self.generator)\n",
    "\n",
    "    def trunc_normal(self, shape, mean, std=0., a=0., b=1.):\n",
    "        w = torch.empty(shape, device=self.device)\n",
    "        if std > 0:\n",
    "            return torch.nn.init.trunc_normal_(w, mean=mean, std=std, a=a, b=b, generator=self.generator)\n",
    "        return w.fill_(mean)\n",
    "\n",
    "    @staticmethod\n",
    "    def topk_idx(weights: torch.Tensor, k: int):\n",
    "        return weights.topk(k, sorted=False, dim=-1).indices\n",
    "\n",
    "    def multinomial_idx(self, probs: torch.Tensor, k: int):\n",
    "        return torch.multinomial(probs, k, replacement=False, generator=self.generator)\n",
    "\n",
    "    def index_to_binary(self, shape, index: torch.LongTensor):\n",
    "        return torch.zeros(shape, device=self.device).scatter_(-1, index, 1)\n",
    "\n",
    "# ---------- Prior types ----------\n",
    "@dataclass(frozen=True)\n",
    "class Prior:\n",
    "    axes: Axes\n",
    "    sampler: Optional[str] = None\n",
    "    kwargs: Optional[Dict] = field(default_factory=dict)\n",
    "\n",
    "    def shape(self, sizes: Sizes): \n",
    "        return tuple(sizes[a] for a in self.axes)\n",
    "    \n",
    "    def layout(self):\n",
    "        return \"\".join(self.axes)\n",
    "\n",
    "# \n",
    "class CompositePrior(SamplingMixin):\n",
    "    def __init__(self, layout, sizes, device, generator):\n",
    "        self.layout = layout\n",
    "        self.sizes = sizes\n",
    "        self.device = device\n",
    "        self.generator = generator\n",
    "\n",
    "    def eval(self, priors: Iterable[Prior]):\n",
    "        return {\n",
    "            p.layout: getattr(self, p.sampler)(p.shape(self.sizes), **p.kwargs) for p in priors\n",
    "        }\n",
    "\n",
    "    def compose(self, prior_registry: dict[Callable]) -> torch.Tensor:\n",
    "        '''Computes the outer product over a set of priors obtained from the registry and contracts it to the layout.'''\n",
    "        # read the registry\n",
    "        dims, einsum_args = [], []\n",
    "        for d, fn in prior_registry.items():\n",
    "            dims.append(d)\n",
    "            einsum_args.append(fn())\n",
    "\n",
    "        # dynamically create patterns\n",
    "        einsum_lhs = \",\".join(dims)\n",
    "        layout_str = \" \".join(self.layout) # the whitespace is important for einops\n",
    "        einsum_rhs = \"b\"+\" \"+ layout_str if 'b' in einsum_lhs else layout_str # the whitespace is important for einops\n",
    "        flat_shape = f\"b ({layout_str})\" if 'b'in einsum_lhs else f\"({layout_str})\"\n",
    "        \n",
    "        #compute outer product and flatten\n",
    "        prior = torch.einsum(f\"{einsum_lhs}->{einsum_rhs}\", *einsum_args)\n",
    "        flat = rearrange(prior, f\"{einsum_rhs} -> {flat_shape}\")\n",
    "        return flat\n",
    "\n",
    "    def __call__(self):\n",
    "        return self._eval_rule()"
   ]
  },
  {
   "cell_type": "code",
   "execution_count": null,
   "id": "8f3a4487",
   "metadata": {},
   "outputs": [],
   "source": []
  },
  {
   "cell_type": "code",
   "execution_count": null,
   "id": "9f12e1e7",
   "metadata": {},
   "outputs": [],
   "source": []
  },
  {
   "cell_type": "code",
   "execution_count": null,
   "id": "38d87f88",
   "metadata": {},
   "outputs": [],
   "source": []
  },
  {
   "cell_type": "code",
   "execution_count": null,
   "id": "4d6716d0",
   "metadata": {},
   "outputs": [],
   "source": []
  },
  {
   "cell_type": "code",
   "execution_count": null,
   "id": "2c45184c",
   "metadata": {},
   "outputs": [],
   "source": []
  },
  {
   "cell_type": "code",
   "execution_count": null,
   "id": "e1ef5bcb",
   "metadata": {},
   "outputs": [],
   "source": [
    "import torch\n",
    "import matplotlib.pyplot as plt\n",
    "from einops import repeat\n",
    "\n",
    "# Config\n",
    "H, W = 16, 30\n",
    "B, T, V, S = 2048, 6, 5, H * W  # batch, time, variables, space\n",
    "device = 'cuda' if torch.cuda.is_available() else 'cpu'\n",
    "generator = torch.Generator(device=device).manual_seed(42)\n",
    "\n",
    "world_cfg = {\n",
    "    \"num_tokens\": 1024,\n",
    "    \"alpha\": 5.0,\n",
    "}\n",
    "\n",
    "# Layout of flatland tokens\n",
    "flatland_token_layout = ['t', 'v', 'h', 'w']\n",
    "\n",
    "# Token sizes\n",
    "token_sizes = {\n",
    "    \"b\": B,\n",
    "    't': T,\n",
    "    'v': V,\n",
    "    'h': H,\n",
    "    'w': W\n",
    "}\n",
    "\n",
    "def uniform_priors():\n",
    "    '''Creates a uniform prior for each dimension in the token set.'''\n",
    "    return {k: lambda K= K: torch.ones((K,), device=device) for k, K in token_sizes.items()}\n",
    "\n",
    "@staticmethod\n",
    "def compose_einsum_prior(prior_registry: dict[Callable], layout: list) -> torch.Tensor:\n",
    "    '''Computes the outer product over a set of priors obtained from the registry and contracts it to the layout.'''\n",
    "    dims, einsum_args = [], []\n",
    "    for d, fn in prior_registry.items():\n",
    "        dims.append(d)\n",
    "        einsum_args.append(fn())\n",
    "\n",
    "    einsum_lhs = \",\".join(dims)\n",
    "    layout_str = \" \".join(layout) # the whitespace is important here\n",
    "\n",
    "    has_batch = any(\"b\" in x for x in einsum_lhs)\n",
    "    einsum_rhs = \"b\"+\" \"+ layout_str if has_batch else layout_str # the whitespace is important here\n",
    "    flat_shape = f\"b ({layout_str})\" if has_batch else f\"({layout_str})\"\n",
    "    \n",
    "    prior = torch.einsum(f\"{einsum_lhs}->{einsum_rhs}\", *einsum_args)\n",
    "    flat = rearrange(prior, f\"{einsum_rhs} -> {flat_shape}\")\n",
    "    return flat\n",
    "\n",
    "\n",
    "def default_priors():\n",
    "    return {\n",
    "        'b': lambda: torch.ones(B, device= device),\n",
    "        't': lambda: torch.ones(T, device= device),\n",
    "        \"v\": lambda: torch.ones(V, device= device),\n",
    "        \"hw\":  lambda: torch.ones((token_sizes[\"h\"], token_sizes[\"w\"]), device=device),\n",
    "    }\n",
    "\n",
    "def masking_priors_fn():\n",
    "    return {\n",
    "        \"bt\": lambda: sample_dirichlet((B, token_sizes['t']), sharpness=3., weights= torch.arange(T, device=device)),\n",
    "        \"bv\": lambda: sample_dirichlet((B, token_sizes['v']), sharpness=3.),\n",
    "    }\n",
    "\n",
    "def forecasting_priors_fn():\n",
    "    return {\n",
    "        'b': lambda: torch.ones(B, device= device),\n",
    "        't': lambda: torch.as_tensor([0, 0, 1, 1, 1, 1], device= device),\n",
    "        \"v\": lambda: per_variable_weights,\n",
    "    }\n",
    "\n",
    "per_variable_weights = torch.arange(V, device=device).float()\n",
    "\n",
    "def sample_dirichlet(shape, weights=1.0, sharpness=1.0):\n",
    "    w = torch.ones(shape, device=device) * torch.as_tensor(weights, device=device)\n",
    "    alpha = w.softmax(-1) * sharpness\n",
    "    return torch._sample_dirichlet(alpha, generator=generator)\n",
    "\n",
    "def sample_masking_rates(N, rate_cfg):\n",
    "    rate = torch.empty((1,), device=device)\n",
    "    if rate_cfg[\"std\"] > 0:\n",
    "        rate = torch.nn.init.trunc_normal_(rate, **rate_cfg, generator=generator)\n",
    "    else:\n",
    "        rate.fill_(rate_cfg[\"mean\"])\n",
    "    return int(N * rate.item())\n",
    "\n",
    "def sample_topk(weights: torch.Tensor, k: int):\n",
    "        return weights.topk(k, sorted= False).indices\n",
    "\n",
    "def sample_multinomial(weight: torch.Tensor, rate: int):\n",
    "    '''Samples from a multinomial distribution parameterized by the outer product of priors and rate'''\n",
    "    return torch.multinomial(weight, rate, replacement=False, generator=generator)"
   ]
  },
  {
   "cell_type": "code",
   "execution_count": 186,
   "id": "0af369b5",
   "metadata": {},
   "outputs": [],
   "source": [
    "def prior_from_shape(layout: list | str, func: Callable, **kwargs):\n",
    "    layout = list(layout)\n",
    "    key = \"\".join(layout)\n",
    "    shape = tuple(token_sizes[d] for d in layout)\n",
    "    return {key: lambda: func(shape, **kwargs)}"
   ]
  },
  {
   "cell_type": "code",
   "execution_count": 187,
   "id": "2492d9c3",
   "metadata": {},
   "outputs": [],
   "source": [
    "def hyperprior():\n",
    "    def func():\n",
    "        hyperprior = forecasting_priors_fn()\n",
    "        hyperprior = compose_einsum_prior(hyperprior, layout= [\"t\", \"v\"])\n",
    "        hyperrate = sample_masking_rates(T * V, {\"mean\": 0.25, \"std\": 0.1, 'a': 0.05, 'b': 0.5})\n",
    "        indices = sample_topk(hyperprior, hyperrate)\n",
    "        return torch.zeros_like(hyperprior).scatter_(-1, indices, 1).view(B, T, V)\n",
    "    return {\"btv\": func}"
   ]
  },
  {
   "cell_type": "code",
   "execution_count": 188,
   "id": "18b15785",
   "metadata": {},
   "outputs": [],
   "source": [
    "prior_dict = hyperprior()\n",
    "prior_dict.update(uniform_priors())\n",
    "prior = compose_einsum_prior(prior_dict, layout=flatland_token_layout)\n",
    "rate = int(prior_dict[\"btv\"]().sum((-1,-2))[0])\n",
    "mask = sample_multinomial(prior, rate * H * W)"
   ]
  },
  {
   "cell_type": "code",
   "execution_count": 189,
   "id": "884caa27",
   "metadata": {},
   "outputs": [
    {
     "data": {
      "text/plain": [
       "tensor([[ 6280,  6220,  8939,  ...,  6620,  5842, 13331],\n",
       "        [13661,  6532, 14140,  ...,  7022, 13193, 13949],\n",
       "        [10925, 11359,  5765,  ..., 11224,  6400, 11543],\n",
       "        ...,\n",
       "        [14263, 10840,  9122,  ..., 10856, 10593, 13148],\n",
       "        [14167,  6143, 11196,  ..., 11173,  6116,  6159],\n",
       "        [ 8736, 11093,  8785,  ..., 11700,  9418, 11744]])"
      ]
     },
     "execution_count": 189,
     "metadata": {},
     "output_type": "execute_result"
    }
   ],
   "source": [
    "mask"
   ]
  },
  {
   "cell_type": "code",
   "execution_count": null,
   "id": "fe348c77",
   "metadata": {},
   "outputs": [],
   "source": []
  },
  {
   "cell_type": "code",
   "execution_count": null,
   "id": "9c29a9ea",
   "metadata": {},
   "outputs": [
    {
     "name": "stdout",
     "output_type": "stream",
     "text": [
      "Einsum equation: b,t,v,hw->btvhw\n",
      "Joint shape: torch.Size([2048, 6, 5, 16, 30])\n",
      "Sampled mask shape: torch.Size([2048, 512])\n"
     ]
    },
    {
     "data": {
      "image/png": "[encoded data removed]",
      "text/plain": [
       "<Figure size 1200x600 with 1 Axes>"
      ]
     },
     "metadata": {},
     "output_type": "display_data"
    }
   ],
   "source": [
    "\n",
    "\n",
    "def sample_mask(priors, rate):\n",
    "    layout = flatland_token_layout\n",
    "    layout_axes = set(layout) | {\"b\"}\n",
    "\n",
    "    defaults = default_priors()\n",
    "    defaults.update(priors)\n",
    "\n",
    "    keys, tensors = [], []\n",
    "    for key, fn in defaults.items():\n",
    "        if set(key).issubset(layout_axes):\n",
    "            keys.append(key)\n",
    "            tensors.append(fn(None))  # no `self` needed\n",
    "\n",
    "    lhs = \",\".join(keys)\n",
    "    rhs = \"b\" + \"\".join(layout) if \"b\" in \"\".join(keys) else \"\".join(layout)\n",
    "    einsum_eq = f\"{lhs}->{rhs}\"\n",
    "\n",
    "    joint = torch.einsum(einsum_eq, *tensors)\n",
    "    mask = torch.multinomial(joint.flatten(1), rate, replacement=False)\n",
    "    \n",
    "    # Debug output\n",
    "    print(f\"Einsum equation: {einsum_eq}\")\n",
    "    print(f\"Joint shape: {joint.shape}\")\n",
    "    print(f\"Sampled mask shape: {mask.shape}\")\n",
    "    return mask\n",
    "\n",
    "def sample_joint_masks(rate):\n",
    "    time_prior = sample_dirichlet((B, T), sharpness=world_cfg[\"alpha\"])\n",
    "    variable_prior = sample_dirichlet((B, V), weights=per_variable_weights)\n",
    "    space_prior = torch.ones((H, W), device =device)\n",
    "    joint = torch.einsum('b t, b v, h w -> b t v h w', time_prior, variable_prior, space_prior)\n",
    "    joint = rearrange(joint, f\"b t v h w -> b (t v h w)\")\n",
    "    src_mask = torch.multinomial(joint, rate, replacement=False, generator=generator)\n",
    "    return src_mask\n",
    "\n",
    "def sample_individual_masks():\n",
    "    prior = sample_dirichlet((B, T), sharpness=world_cfg[\"alpha\"])\n",
    "    prior = repeat(prior, 'b t -> b (t s)', s=S)\n",
    "    \n",
    "    masks = []\n",
    "    for v in range(V):\n",
    "        rate = sample_masking_rates({\"mean\": per_variable_weights[v], \"std\": 0.0, 'a': 0.05, 'b': 0.2})\n",
    "        idx = torch.multinomial(prior, num_samples=rate, replacement=False, generator=generator)\n",
    "        full_idx = (idx // S) * V * S + v * S + (idx % S)\n",
    "        masks.append(full_idx)\n",
    "    \n",
    "    src_mask = torch.cat(masks, dim=-1)\n",
    "    return src_mask\n",
    "\n",
    "# Run both samplers\n",
    "rate = sample_masking_rates({\"mean\": 0.5, \"std\": 0., 'a': 0.05, 'b': 1.})\n",
    "\n",
    "joint_src = sample_joint_masks(rate)\n",
    "indiv_src = sample_mask(forecasting_priors_fn(), rate)\n",
    "#indiv_src, _ = sample_individual_masks()\n",
    "\n",
    "# Compare: histogram of flat index distributions\n",
    "def plot_mask_hist(mask_tensor, label):\n",
    "    flat = mask_tensor.flatten().cpu().numpy()\n",
    "    plt.hist(flat, bins=world_cfg[\"num_tokens\"], alpha=0.5, label=label, density=True)\n",
    "\n",
    "plt.figure(figsize=(12, 6))\n",
    "plot_mask_hist(joint_src, \"Joint\")\n",
    "plot_mask_hist(indiv_src, \"Individual\")\n",
    "plt.legend()\n",
    "plt.title(\"Mask Index Distribution Comparison\")\n",
    "plt.xlabel(\"Token Index\")\n",
    "plt.ylabel(\"Normalized Frequency\")\n",
    "plt.show()"
   ]
  },
  {
   "cell_type": "code",
   "execution_count": null,
   "id": "8e4dfb5d",
   "metadata": {},
   "outputs": [],
   "source": []
  },
  {
   "cell_type": "code",
   "execution_count": null,
   "id": "6e5c92b1",
   "metadata": {},
   "outputs": [],
   "source": []
  },
  {
   "cell_type": "code",
   "execution_count": 6,
   "id": "929b6958",
   "metadata": {},
   "outputs": [
    {
     "data": {
      "image/png": "[encoded data removed]",
      "text/plain": [
       "<Figure size 1500x800 with 9 Axes>"
      ]
     },
     "metadata": {},
     "output_type": "display_data"
    }
   ],
   "source": [
    "import numpy as np\n",
    "import matplotlib.pyplot as plt\n",
    "\n",
    "# Example token sizes\n",
    "T, V, H = 20, 10, 5\n",
    "\n",
    "# Sampled priors (Dirichlet-like) for t and v\n",
    "np.random.seed(0)\n",
    "p_t = np.random.dirichlet(alpha=np.ones(T)*0.5)\n",
    "p_v = np.random.dirichlet(alpha=np.ones(V)*0.8)\n",
    "u_h = np.ones(H) / H  # uniform prior for h\n",
    "\n",
    "# Compute pairwise joint priors (outer products)\n",
    "joint_tv = np.outer(p_t, p_v)      # shape (T, V)\n",
    "joint_th = np.outer(p_t, u_h)      # shape (T, H)\n",
    "joint_vh = np.outer(p_v, u_h)      # shape (V, H)\n",
    "\n",
    "fig, axes = plt.subplots(2, 3, figsize=(15, 8),\n",
    "                         gridspec_kw={'height_ratios': [1, 2]})\n",
    "\n",
    "# --- Row 0: Marginals ---\n",
    "axes[0, 0].bar(np.arange(T), p_t, color='C0')\n",
    "axes[0, 0].set_title('Marginal Prior over Time (t)')\n",
    "axes[0, 0].set_xticks([])\n",
    "\n",
    "axes[0, 1].bar(np.arange(V), p_v, color='C1')\n",
    "axes[0, 1].set_title('Marginal Prior over Variable (v)')\n",
    "axes[0, 1].set_xticks([])\n",
    "\n",
    "axes[0, 2].bar(np.arange(H), u_h, color='C2')\n",
    "axes[0, 2].set_title('Uniform Prior over Height (h)')\n",
    "axes[0, 2].set_xticks([])\n",
    "\n",
    "# --- Row 1: Joint priors ---\n",
    "\n",
    "im1 = axes[1, 0].imshow(joint_tv, cmap='Blues', aspect='auto')\n",
    "axes[1, 0].set_title('Joint Prior over (t, v)')\n",
    "axes[1, 0].set_ylabel('Time (t)')\n",
    "axes[1, 0].set_xlabel('Variable (v)')\n",
    "fig.colorbar(im1, ax=axes[1, 0], fraction=0.046, pad=0.04)\n",
    "\n",
    "im2 = axes[1, 1].imshow(joint_th, cmap='Greens', aspect='auto')\n",
    "axes[1, 1].set_title('Joint Prior over (t, h)')\n",
    "axes[1, 1].set_ylabel('Time (t)')\n",
    "axes[1, 1].set_xlabel('Height (h)')\n",
    "fig.colorbar(im2, ax=axes[1, 1], fraction=0.046, pad=0.04)\n",
    "\n",
    "im3 = axes[1, 2].imshow(joint_vh, cmap='Oranges', aspect='auto')\n",
    "axes[1, 2].set_title('Joint Prior over (v, h)')\n",
    "axes[1, 2].set_ylabel('Variable (v)')\n",
    "axes[1, 2].set_xlabel('Height (h)')\n",
    "fig.colorbar(im3, ax=axes[1, 2], fraction=0.046, pad=0.04)\n",
    "\n",
    "plt.tight_layout()\n",
    "plt.show()\n"
   ]
  },
  {
   "cell_type": "code",
   "execution_count": null,
   "id": "09b9f997",
   "metadata": {},
   "outputs": [],
   "source": [
    "T, V = 8, 8\n",
    "B = 1000\n",
    "S = 256\n",
    "shape = (B, T)\n",
    "sharpness = 3\n",
    "R = 1024"
   ]
  },
  {
   "cell_type": "code",
   "execution_count": null,
   "id": "4297c30c",
   "metadata": {},
   "outputs": [],
   "source": [
    "w = torch.ones(shape).view(B, -1)\n",
    "alpha = w.softmax(-1) * sharpness\n",
    "prior = torch._sample_dirichlet(alpha).repeat_interleave(V, -1)\n",
    "prior = prior.view(B, T, V).sort(1).values.view(B, -1)\n",
    "prior = prior.mean(dim = 0).clamp(1e-6, 1 - 1e-6).softmax(0)"
   ]
  },
  {
   "cell_type": "code",
   "execution_count": 503,
   "id": "7a5eda22",
   "metadata": {},
   "outputs": [
    {
     "data": {
      "text/plain": [
       "tensor([0.8922, 0.8922, 0.8922, 0.8922, 0.8922, 0.8922, 0.8922, 0.8922, 0.9083,\n",
       "        0.9083, 0.9083, 0.9083, 0.9083, 0.9083, 0.9083, 0.9083, 0.9273, 0.9273,\n",
       "        0.9273, 0.9273, 0.9273, 0.9273, 0.9273, 0.9273, 0.9508, 0.9508, 0.9508,\n",
       "        0.9508, 0.9508, 0.9508, 0.9508, 0.9508, 0.9799, 0.9799, 0.9799, 0.9799,\n",
       "        0.9799, 0.9799, 0.9799, 0.9799, 1.0218, 1.0218, 1.0218, 1.0218, 1.0218,\n",
       "        1.0218, 1.0218, 1.0218, 1.0891, 1.0891, 1.0891, 1.0891, 1.0891, 1.0891,\n",
       "        1.0891, 1.0891, 1.2306, 1.2306, 1.2306, 1.2306, 1.2306, 1.2306, 1.2306,\n",
       "        1.2306])"
      ]
     },
     "execution_count": 503,
     "metadata": {},
     "output_type": "execute_result"
    }
   ],
   "source": [
    "prior * T * V"
   ]
  },
  {
   "cell_type": "code",
   "execution_count": 497,
   "id": "f7e52ae2",
   "metadata": {},
   "outputs": [
    {
     "data": {
      "text/plain": [
       "Text(0, 0.5, 'T')"
      ]
     },
     "execution_count": 497,
     "metadata": {},
     "output_type": "execute_result"
    },
    {
     "data": {
      "image/png": "[encoded data removed]",
      "text/plain": [
       "<Figure size 640x480 with 1 Axes>"
      ]
     },
     "metadata": {},
     "output_type": "display_data"
    }
   ],
   "source": [
    "plt.contourf(prior.view(T, V))\n",
    "plt.ylabel('T')"
   ]
  },
  {
   "cell_type": "code",
   "execution_count": null,
   "id": "f085fe4d",
   "metadata": {},
   "outputs": [],
   "source": [
    "alphas = np.logspace(-3, 3, num=24)\n",
    "cdf_t = torch.zeros((len(alphas), T))\n",
    "cdf_v = torch.zeros((len(alphas), V))\n",
    "probs = []\n",
    "for i, sharpness in enumerate(alphas):\n",
    "    w = torch.ones(shape).view(B, -1)\n",
    "    alpha = w / w.sum(-1, keepdim= True)  # normalize to probability simplex\n",
    "    alpha = alpha * sharpness * w.size(-1)\n",
    "    dirichlet_src = torch._sample_dirichlet(alpha).sort(dim = -1, descending=True).values\n",
    "\n",
    "    probs.append(dirichlet_src.mean(dim = 0).clamp(1e-6, 1 - 1e-6))\n",
    "    dirichlet_src = dirichlet_src.repeat_interleave(S, dim=-1)\n",
    "    src = torch.multinomial(dirichlet_src, R, replacement=False)\n",
    "    t_src = (src // S) // V\n",
    "    v_src = (src // S) % V\n",
    "    t_counts = torch.stack([torch.bincount(m, minlength=T) for m in t_src]).float() / R\n",
    "    v_counts = torch.stack([torch.bincount(m, minlength=V) for m in v_src]).float() / R\n",
    "    cdf_t[i ] = t_counts.mean(dim = 0).clamp(1e-6, 1 - 1e-6)    \n",
    "    cdf_v[i] = v_counts.mean(dim = 0).clamp(1e-6, 1 - 1e-6)   \n"
   ]
  },
  {
   "cell_type": "code",
   "execution_count": 367,
   "id": "f0f3e367",
   "metadata": {},
   "outputs": [
    {
     "data": {
      "image/png": "[encoded data removed]",
      "text/plain": [
       "<Figure size 1200x600 with 2 Axes>"
      ]
     },
     "metadata": {},
     "output_type": "display_data"
    }
   ],
   "source": [
    "plt.rc(\"font\", size=11)          # the default text size\n",
    "plt.rc(\"axes\", titlesize=13)     # subplot titles\n",
    "plt.rc(\"axes\", labelsize=12)     # x/y labels\n",
    "plt.rc(\"xtick\", labelsize=11)\n",
    "plt.rc(\"ytick\", labelsize=11)\n",
    "plt.rc(\"legend\", fontsize=9)\n",
    "\n",
    "from matplotlib.ticker import LogLocator\n",
    "from matplotlib.colors import LogNorm\n",
    "\n",
    "# --- 1) Make your grid of x (ranks) and y (alpha) values:\n",
    "x = np.arange(T)             # ranks 0,1,…,T-1\n",
    "y = alphas                   # log‐spaced α’s, e.g. np.logspace(-3, 1, num=len(alphas))\n",
    "X, Y = np.meshgrid(x, y)\n",
    "\n",
    "\n",
    "eps = 1e-6\n",
    "levels = 10**np.linspace(-2, 0., 100)\n",
    "sparse_levels = 10**np.linspace(-2, 0., 10)\n",
    "vmin = levels[0]\n",
    "vmax = levels[-1]\n",
    "\n",
    "fig, ax = plt.subplots(1,2, figsize= (12, 6))\n",
    "# Plot for cdf[0]\n",
    "cf0 = ax[0].contourf(\n",
    "    X, Y, cdf_t,\n",
    "    levels=levels,\n",
    "    norm=LogNorm(vmin=vmin, vmax=vmax),\n",
    "    cmap=\"viridis\",\n",
    ")\n",
    "\n",
    "ax[0].grid(True, alpha=0.3)\n",
    "\n",
    "cs0 = ax[0].contour(\n",
    "    X, Y, cdf_t,\n",
    "    levels=sparse_levels,\n",
    "    colors='black',\n",
    "    linewidths=0.65\n",
    ")\n",
    "ax[0].set_yscale('log')\n",
    "ax[0].set_xlabel(\"Ranked frame\")\n",
    "ax[0].set_title(r\"Dirichlet$(\\alpha)$ prior\")\n",
    "ax[0].set_xticks(np.arange(0, T, 1))\n",
    "ax[0].set_xticklabels(np.arange(1, T + 1, 1))\n",
    "\n",
    "\n",
    "# --- 1) Make your grid of x (ranks) and y (alpha) values:\n",
    "x = np.arange(V)             # ranks 0,1,…,T-1\n",
    "y = alphas                   # log‐spaced α’s, e.g. np.logspace(-3, 1, num=len(alphas))\n",
    "X, Y = np.meshgrid(x, y)\n",
    "cf0 = ax[1].contourf(\n",
    "    X, Y, cdf_v,\n",
    "    levels=levels,\n",
    "    norm=LogNorm(vmin=vmin, vmax=vmax),\n",
    "    cmap=\"viridis\",\n",
    ")\n",
    "\n",
    "ax[1].grid(True, alpha=0.3)\n",
    "\n",
    "cs0 = ax[1].contour(\n",
    "    X, Y, cdf_v,\n",
    "    levels=sparse_levels,\n",
    "    colors='black',\n",
    "    linewidths=0.65\n",
    ")\n",
    "ax[1].set_yscale('log')\n",
    "ax[1].set_xlabel(\"Ranked variable\")\n",
    "ax[1].set_title(r\"Dirichlet$(\\alpha)$ prior\")\n",
    "ax[1].set_xticks(np.arange(0, V, 1))\n",
    "ax[1].set_xticklabels(np.arange(1, V + 1, 1))\n",
    "plt.show()"
   ]
  },
  {
   "cell_type": "code",
   "execution_count": null,
   "id": "6b5ce14e",
   "metadata": {},
   "outputs": [],
   "source": []
  },
  {
   "cell_type": "code",
   "execution_count": 163,
   "id": "d90d7a20",
   "metadata": {},
   "outputs": [
    {
     "data": {
      "image/png": "[encoded data removed]",
      "text/plain": [
       "<Figure size 640x480 with 1 Axes>"
      ]
     },
     "metadata": {},
     "output_type": "display_data"
    }
   ],
   "source": [
    "r = torch.empty(100000)\n",
    "r = torch.nn.init.trunc_normal_(r, 0.25, 0.25, 1 / 16, 1.)\n",
    "a = plt.hist(r * 8192, bins = np.linspace(64, 8192, 64))\n",
    "plt.yscale('log')"
   ]
  },
  {
   "cell_type": "code",
   "execution_count": 1,
   "metadata": {},
   "outputs": [],
   "source": [
    "import torch\n",
    "from einops import repeat\n",
    "\n",
    "# Fixed config values\n",
    "B, T, V, S = 8, 6, 9, 480\n",
    "per_variable_weights = torch.ones(V)\n",
    "alpha = 3.0\n",
    "mask_rates_src = {'mean': 0.1, 'std': 0.1, 'a': 0.01, 'b': 0.5}\n",
    "num_tokens = T * V * S  # Total tokens in src\n",
    "\n",
    "def get_flatland_shape():\n",
    "    return B, T, V, S\n",
    "\n",
    "def get_full_index():\n",
    "    # dummy return for tgt_mask\n",
    "    return torch.arange(num_tokens).expand(B, -1)\n",
    "\n",
    "def sample_masking_rates(rate_cfg: dict):\n",
    "    if rate_cfg[\"std\"] > 0:\n",
    "        # sample from truncated normal\n",
    "        mean, std, a, b = rate_cfg[\"mean\"], rate_cfg[\"std\"], rate_cfg[\"a\"], rate_cfg[\"b\"]\n",
    "        rate = torch.clamp(torch.normal(mean=mean, std=std, size=(1,)), min=a, max=b)\n",
    "    else:\n",
    "        rate = torch.tensor([rate_cfg[\"mean\"]])\n",
    "    return int(num_tokens * rate.item())\n",
    "\n",
    "def sample_dirichlet(shape: tuple, weights=1.0, sharpness: float = 1.0):\n",
    "    w = torch.ones(shape) * torch.as_tensor(weights)\n",
    "    probs = w / w.sum(-1, keepdim=True)\n",
    "    alpha = probs * sharpness\n",
    "    return torch.distributions.Dirichlet(alpha).sample()\n",
    "\n",
    "def sample_joint_masks():\n",
    "    B, T, V, S = get_flatland_shape()\n",
    "    tgt_mask = get_full_index()\n",
    "\n",
    "    src_rate = sample_masking_rates(mask_rates_src)\n",
    "    time_prior = sample_dirichlet((B, T), sharpness=alpha)\n",
    "    var_prior = sample_dirichlet((B, V), weights=per_variable_weights, sharpness=alpha)\n",
    "\n",
    "    joint = torch.einsum('bt,bv->btv', time_prior, var_prior)\n",
    "    joint = repeat(joint, 'b t v -> b (t v s)', s=S)\n",
    "\n",
    "    src_mask = torch.multinomial(joint, src_rate, replacement=False)\n",
    "    return src_mask, tgt_mask\n",
    "\n",
    "def sample_individual_masks():\n",
    "    B, T, V, S = get_flatland_shape()\n",
    "    tgt_mask = get_full_index()\n",
    "\n",
    "    prior = sample_dirichlet((B, T), sharpness=alpha)\n",
    "    prior = repeat(prior, 'b t -> b (t s)', s=S)\n",
    "\n",
    "    masks = [\n",
    "        torch.multinomial(prior, sample_masking_rates(mask_rates_src), replacement=False)\n",
    "        for _ in range(V)\n",
    "    ]\n",
    "    src_mask = torch.cat(masks, dim=-1)\n",
    "    return src_mask, tgt_mask\n"
   ]
  },
  {
   "cell_type": "code",
   "execution_count": null,
   "id": "27fc7d80",
   "metadata": {},
   "outputs": [],
   "source": []
  },
  {
   "cell_type": "code",
   "execution_count": null,
   "id": "f7b4164a",
   "metadata": {},
   "outputs": [],
   "source": []
  },
  {
   "cell_type": "code",
   "execution_count": null,
   "id": "19e372b0",
   "metadata": {},
   "outputs": [],
   "source": []
  },
  {
   "cell_type": "code",
   "execution_count": 1,
   "id": "d2276af0",
   "metadata": {},
   "outputs": [],
   "source": [
    "import torch_harmonics"
   ]
  },
  {
   "cell_type": "code",
   "execution_count": 69,
   "id": "7d0dde1e",
   "metadata": {},
   "outputs": [],
   "source": [
    "def sample_dirichlet( shape: Tuple[int, ...], weights: torch.Tensor | float = 1.0, sharpness: float = 1.0) -> torch.Tensor:\n",
    "    w = torch.ones(shape) * torch.as_tensor(weights)\n",
    "    probs = w / w.sum(-1, keepdim= True)  # normalize to probability simplex\n",
    "    alpha = probs * sharpness\n",
    "    return torch._sample_dirichlet(alpha)"
   ]
  },
  {
   "cell_type": "code",
   "execution_count": null,
   "id": "534c03b1",
   "metadata": {},
   "outputs": [],
   "source": [
    "w = torch.einsum('t, v -> vt', torch.ones(7), torch.arange(5))\n",
    "W = sample_dirichlet((10000, 5, 7), weights = w, sharpness=3)"
   ]
  },
  {
   "cell_type": "code",
   "execution_count": 128,
   "id": "1b8f7c20",
   "metadata": {},
   "outputs": [],
   "source": [
    "X = sample_dirichlet((10000, 5), weights = torch.arange(5), sharpness=3)\n",
    "Y = sample_dirichlet((10000, 7), weights = torch.ones(7), sharpness=3)\n",
    "\n",
    "xy = torch.einsum('bv, bt -> btv', X, Y)"
   ]
  },
  {
   "cell_type": "code",
   "execution_count": null,
   "id": "f5a58e76",
   "metadata": {},
   "outputs": [],
   "source": []
  },
  {
   "cell_type": "code",
   "execution_count": null,
   "id": "e1abcb7b",
   "metadata": {},
   "outputs": [],
   "source": []
  },
  {
   "cell_type": "code",
   "execution_count": 5,
   "id": "75f27b75",
   "metadata": {},
   "outputs": [],
   "source": [
    "def predict_ambient_src(self, src, tgt, latents, ctx):\n",
    "    # O(2*z*(src+tgt) + z**2)\n",
    "    x = torch.cat([src, tgt], dim = 1)\n",
    "    for block in self.network:\n",
    "        x, z = block(x = x, z = latents, ctx = ctx)\n",
    "    _, tgt = x.split([src.size(1), tgt.size(1)], dim = 1)\n",
    "    return tgt, z\n",
    "\n",
    "def predict_latent_src(self, src, tgt, latents, ctx):\n",
    "    #O(2*tgt*(src + z) + (src * z)**2)\n",
    "    z = torch.cat([src, latents], dim = 1)\n",
    "    for block in self.network:\n",
    "        tgt, z = block(x = tgt, z = z, ctx = ctx)\n",
    "    _, z = z.split([src.size(1), latents.size(1)], dim=1)\n",
    "    return tgt, z\n",
    "\n",
    "def predict_self_vit(self, src, tgt, latents, ctx):\n",
    "    x = torch.cat([src, latents], dim = 1)\n",
    "    encoder, decoder = self.network[:-1], self.network[-1]\n",
    "    for block in encoder:\n",
    "        x, _ = block(x, x, ctx)\n",
    "    q = torch.cat([x, tgt], dim = 1)\n",
    "    q = decoder(q, q, ctx)\n",
    "    _, tgt = q.split([x.size(1), tgt.size(1)], dim = 1)\n",
    "    return tgt, None\n",
    "\n",
    "def predict_cross_vit(self, src, tgt, latents, ctx):\n",
    "    x = torch.cat([src, latents], dim = 1)\n",
    "    encoder, decoder = self.network[:-1], self.network[-1]\n",
    "    for block in encoder:\n",
    "        x, _ = block(x, x, ctx)\n",
    "    tgt = decoder(tgt, x, ctx)\n",
    "    return tgt, None\n",
    "\n",
    "def predict_perceiver(self, src, tgt, latents, ctx):\n",
    "    encoder, decoder = self.network[:-1], self.network[-1]\n",
    "    for block in encoder:\n",
    "        _, z = block(src, latents, ctx)\n",
    "    tgt = decoder(tgt, z, ctx)\n",
    "    return tgt, None\n",
    "\n",
    "def forward(self, src, src_pos, tgt_pos, ctx = None):  \n",
    "        #initialize context\n",
    "        ctx = self.proj_noise(ctx if ctx is not None else src.new_zeros(self.dim_ctx))\n",
    "        # initialize src\n",
    "        src = self.proj_in(src) + self.positions(src_pos)\n",
    "        # initialize latents\n",
    "        latents = repeat(self.latents.weight, \"z d -> b z d\", b = src.size(0))      \n",
    "        # initialize tgt\n",
    "        tgt = self.queries(torch.zeros_like(tgt_pos)) + self.positions(tgt_pos)\n",
    "        # predict\n",
    "        tgt, _ = self.predict_latent_src(src, tgt, latents, ctx)\n",
    "        # project out\n",
    "        tgt = self.proj_out(tgt)\n",
    "        return tgt"
   ]
  },
  {
   "cell_type": "code",
   "execution_count": null,
   "id": "91240848",
   "metadata": {},
   "outputs": [],
   "source": []
  },
  {
   "cell_type": "code",
   "execution_count": 6,
   "id": "2253f6b6",
   "metadata": {},
   "outputs": [],
   "source": [
    "@dataclass\n",
    "class Config:\n",
    "    dim_in: int\n",
    "    dim_out: int\n",
    "    dim: int\n",
    "    num_tokens: Optional[int] = None\n",
    "    num_compute_blocks: Optional[int] = None\n",
    "    num_layers: Optional[int] = None\n",
    "    num_latents: Optional[int] = None\n",
    "    dim_heads: int = 64\n",
    "    dim_noise: int = 8\n",
    "    dim_coords: int = 32\n",
    "    architecture: str = \"interface\""
   ]
  },
  {
   "cell_type": "code",
   "execution_count": 8,
   "id": "5d186098",
   "metadata": {},
   "outputs": [],
   "source": [
    "from utils.field_network import NeuralWeatherField"
   ]
  },
  {
   "cell_type": "code",
   "execution_count": 7,
   "id": "44b9914c",
   "metadata": {},
   "outputs": [],
   "source": [
    "B, N, F, C = 16, 4096, 73, 4\n",
    "D = 512\n",
    "K = 4\n",
    "M_src, M_tgt, F_src, F_tgt = 512, 1024, 32, 64 "
   ]
  },
  {
   "cell_type": "code",
   "execution_count": null,
   "id": "b74492a0",
   "metadata": {},
   "outputs": [],
   "source": [
    "cfg = Config(C, C, D, N, 4, 4, 256)\n",
    "\n"
   ]
  },
  {
   "cell_type": "code",
   "execution_count": null,
   "id": "ba98b893",
   "metadata": {},
   "outputs": [
    {
     "name": "stdout",
     "output_type": "stream",
     "text": [
      "66,839,628\n"
     ]
    }
   ],
   "source": [
    "model = NeuralWeatherField(cfg).to(device)\n",
    "\n",
    "compiled = torch.compile(\n",
    "    model, \n",
    "    fullgraph=False,\n",
    "    dynamic=True,\n",
    "    disable=False\n",
    "    )\n",
    "\n",
    "optim = torch.optim.AdamW(compiled.parameters())\n",
    "print(f'{sum(p.numel() for p in compiled.parameters()):,}') \n",
    "\n",
    "def step():\n",
    "    with autocast(device, torch.float16):\n",
    "        M_src = torch.randint(64, 512, (1,), device=device).item()\n",
    "        M_tgt = torch.randint(768, 1280,(1,), device= device).item()\n",
    "\n",
    "        noise = torch.randn((K * B, 1, 8), device = device)\n",
    "\n",
    "        pos_src = torch.multinomial(torch.ones((B, N), device = device), M_src)\n",
    "        pos_tgt = torch.multinomial(torch.ones((B, N), device = device), M_tgt)\n",
    "        y = torch.randn((B, M_tgt, C), device = device)\n",
    "        x = torch.randn((B, M_src, C), device = device)\n",
    "        \n",
    "        x, pos_src, pos_tgt = (repeat(var, \"b ... -> (b k) ...\", k = K) for var in (x, pos_src, pos_tgt))\n",
    "        x_hat, z_hat = compiled(x, pos_src, pos_tgt, noise=noise)\n",
    "        x_hat = rearrange(x_hat, '(b k) ... -> b ... k', k = K)\n",
    "        loss = f_kernel_crps(y, x_hat).mean()\n",
    "        \n",
    "    optim.zero_grad()\n",
    "    loss.backward()\n",
    "    optim.step()\n",
    "    "
   ]
  },
  {
   "cell_type": "code",
   "execution_count": 20,
   "id": "c38fdb5b",
   "metadata": {},
   "outputs": [
    {
     "ename": "RuntimeError",
     "evalue": "Tensor type unknown to einops <class 'tuple'>",
     "output_type": "error",
     "traceback": [
      "\u001b[0;31m---------------------------------------------------------------------------\u001b[0m",
      "\u001b[0;31mRuntimeError\u001b[0m                              Traceback (most recent call last)",
      "Cell \u001b[0;32mIn[20], line 3\u001b[0m\n\u001b[1;32m      1\u001b[0m start \u001b[38;5;241m=\u001b[39m time\u001b[38;5;241m.\u001b[39mtime()\n\u001b[1;32m      2\u001b[0m \u001b[38;5;28;01mfor\u001b[39;00m _ \u001b[38;5;129;01min\u001b[39;00m \u001b[38;5;28mrange\u001b[39m(\u001b[38;5;241m100\u001b[39m):\n\u001b[0;32m----> 3\u001b[0m     \u001b[43mstep\u001b[49m\u001b[43m(\u001b[49m\u001b[43m)\u001b[49m\n\u001b[1;32m      4\u001b[0m elapsed \u001b[38;5;241m=\u001b[39m time\u001b[38;5;241m.\u001b[39mtime() \u001b[38;5;241m-\u001b[39m start\n",
      "Cell \u001b[0;32mIn[19], line 27\u001b[0m, in \u001b[0;36mstep\u001b[0;34m()\u001b[0m\n\u001b[1;32m     25\u001b[0m     x, pos_src, pos_tgt \u001b[38;5;241m=\u001b[39m (repeat(var, \u001b[38;5;124m\"\u001b[39m\u001b[38;5;124mb ... -> (b k) ...\u001b[39m\u001b[38;5;124m\"\u001b[39m, k \u001b[38;5;241m=\u001b[39m K) \u001b[38;5;28;01mfor\u001b[39;00m var \u001b[38;5;129;01min\u001b[39;00m (x, pos_src, pos_tgt))\n\u001b[1;32m     26\u001b[0m     x_hat \u001b[38;5;241m=\u001b[39m compiled(x, pos_src, pos_tgt, noise\u001b[38;5;241m=\u001b[39mnoise)\n\u001b[0;32m---> 27\u001b[0m     x_hat \u001b[38;5;241m=\u001b[39m \u001b[43mrearrange\u001b[49m\u001b[43m(\u001b[49m\u001b[43mx_hat\u001b[49m\u001b[43m,\u001b[49m\u001b[43m \u001b[49m\u001b[38;5;124;43m'\u001b[39;49m\u001b[38;5;124;43m(b k) ... -> b ... k\u001b[39;49m\u001b[38;5;124;43m'\u001b[39;49m\u001b[43m,\u001b[49m\u001b[43m \u001b[49m\u001b[43mk\u001b[49m\u001b[43m \u001b[49m\u001b[38;5;241;43m=\u001b[39;49m\u001b[43m \u001b[49m\u001b[43mK\u001b[49m\u001b[43m)\u001b[49m\n\u001b[1;32m     28\u001b[0m     loss \u001b[38;5;241m=\u001b[39m f_kernel_crps(y, x_hat)\u001b[38;5;241m.\u001b[39mmean()\n\u001b[1;32m     30\u001b[0m optim\u001b[38;5;241m.\u001b[39mzero_grad()\n",
      "File \u001b[0;32m/mnt/lustre/work/ludwig/jthuemmel54/miniforge3/envs/torch/lib/python3.13/site-packages/einops/einops.py:600\u001b[0m, in \u001b[0;36mrearrange\u001b[0;34m(tensor, pattern, **axes_lengths)\u001b[0m\n\u001b[1;32m    545\u001b[0m \u001b[38;5;28;01mdef\u001b[39;00m\u001b[38;5;250m \u001b[39m\u001b[38;5;21mrearrange\u001b[39m(tensor: Union[Tensor, List[Tensor]], pattern: \u001b[38;5;28mstr\u001b[39m, \u001b[38;5;241m*\u001b[39m\u001b[38;5;241m*\u001b[39maxes_lengths: Size) \u001b[38;5;241m-\u001b[39m\u001b[38;5;241m>\u001b[39m Tensor:\n\u001b[1;32m    546\u001b[0m \u001b[38;5;250m    \u001b[39m\u001b[38;5;124;03m\"\"\"\u001b[39;00m\n\u001b[1;32m    547\u001b[0m \u001b[38;5;124;03m    einops.rearrange is a reader-friendly smart element reordering for multidimensional tensors.\u001b[39;00m\n\u001b[1;32m    548\u001b[0m \u001b[38;5;124;03m    This operation includes functionality of transpose (axes permutation), reshape (view), squeeze, unsqueeze,\u001b[39;00m\n\u001b[0;32m   (...)\u001b[0m\n\u001b[1;32m    598\u001b[0m \n\u001b[1;32m    599\u001b[0m \u001b[38;5;124;03m    \"\"\"\u001b[39;00m\n\u001b[0;32m--> 600\u001b[0m     \u001b[38;5;28;01mreturn\u001b[39;00m \u001b[43mreduce\u001b[49m\u001b[43m(\u001b[49m\u001b[43mtensor\u001b[49m\u001b[43m,\u001b[49m\u001b[43m \u001b[49m\u001b[43mpattern\u001b[49m\u001b[43m,\u001b[49m\u001b[43m \u001b[49m\u001b[43mreduction\u001b[49m\u001b[38;5;241;43m=\u001b[39;49m\u001b[38;5;124;43m\"\u001b[39;49m\u001b[38;5;124;43mrearrange\u001b[39;49m\u001b[38;5;124;43m\"\u001b[39;49m\u001b[43m,\u001b[49m\u001b[43m \u001b[49m\u001b[38;5;241;43m*\u001b[39;49m\u001b[38;5;241;43m*\u001b[39;49m\u001b[43maxes_lengths\u001b[49m\u001b[43m)\u001b[49m\n",
      "File \u001b[0;32m/mnt/lustre/work/ludwig/jthuemmel54/miniforge3/envs/torch/lib/python3.13/site-packages/einops/einops.py:527\u001b[0m, in \u001b[0;36mreduce\u001b[0;34m(tensor, pattern, reduction, **axes_lengths)\u001b[0m\n\u001b[1;32m    525\u001b[0m     tensor \u001b[38;5;241m=\u001b[39m backend\u001b[38;5;241m.\u001b[39mstack_on_zeroth_dimension(tensor)\n\u001b[1;32m    526\u001b[0m \u001b[38;5;28;01melse\u001b[39;00m:\n\u001b[0;32m--> 527\u001b[0m     backend \u001b[38;5;241m=\u001b[39m \u001b[43mget_backend\u001b[49m\u001b[43m(\u001b[49m\u001b[43mtensor\u001b[49m\u001b[43m)\u001b[49m\n\u001b[1;32m    529\u001b[0m hashable_axes_lengths \u001b[38;5;241m=\u001b[39m \u001b[38;5;28mtuple\u001b[39m(axes_lengths\u001b[38;5;241m.\u001b[39mitems())\n\u001b[1;32m    530\u001b[0m shape \u001b[38;5;241m=\u001b[39m backend\u001b[38;5;241m.\u001b[39mshape(tensor)\n",
      "File \u001b[0;32m/mnt/lustre/work/ludwig/jthuemmel54/miniforge3/envs/torch/lib/python3.13/site-packages/einops/_backends.py:59\u001b[0m, in \u001b[0;36mget_backend\u001b[0;34m(tensor)\u001b[0m\n\u001b[1;32m     56\u001b[0m                 _type2backend[_type] \u001b[38;5;241m=\u001b[39m backend\n\u001b[1;32m     57\u001b[0m                 \u001b[38;5;28;01mreturn\u001b[39;00m backend\n\u001b[0;32m---> 59\u001b[0m \u001b[38;5;28;01mraise\u001b[39;00m \u001b[38;5;167;01mRuntimeError\u001b[39;00m(\u001b[38;5;124m\"\u001b[39m\u001b[38;5;124mTensor type unknown to einops \u001b[39m\u001b[38;5;132;01m{}\u001b[39;00m\u001b[38;5;124m\"\u001b[39m\u001b[38;5;241m.\u001b[39mformat(\u001b[38;5;28mtype\u001b[39m(tensor)))\n",
      "\u001b[0;31mRuntimeError\u001b[0m: Tensor type unknown to einops <class 'tuple'>"
     ]
    }
   ],
   "source": [
    "start = time.time()\n",
    "for _ in range(100):\n",
    "    step()\n",
    "elapsed = time.time() - start"
   ]
  },
  {
   "cell_type": "code",
   "execution_count": null,
   "id": "f037647a",
   "metadata": {},
   "outputs": [],
   "source": []
  },
  {
   "cell_type": "code",
   "execution_count": 11,
   "id": "7bda57eb",
   "metadata": {},
   "outputs": [
    {
     "ename": "ValueError",
     "evalue": "Expected a cuda device, but got: cpu",
     "output_type": "error",
     "traceback": [
      "\u001b[0;31m---------------------------------------------------------------------------\u001b[0m",
      "\u001b[0;31mValueError\u001b[0m                                Traceback (most recent call last)",
      "Cell \u001b[0;32mIn[11], line 2\u001b[0m\n\u001b[1;32m      1\u001b[0m start \u001b[38;5;241m=\u001b[39m time\u001b[38;5;241m.\u001b[39mtime()\n\u001b[0;32m----> 2\u001b[0m \u001b[43mtorch\u001b[49m\u001b[38;5;241;43m.\u001b[39;49m\u001b[43mcuda\u001b[49m\u001b[38;5;241;43m.\u001b[39;49m\u001b[43mreset_peak_memory_stats\u001b[49m\u001b[43m(\u001b[49m\u001b[43mdevice\u001b[49m\u001b[43m)\u001b[49m\n\u001b[1;32m      3\u001b[0m \u001b[38;5;28;01mfor\u001b[39;00m _ \u001b[38;5;129;01min\u001b[39;00m \u001b[38;5;28mrange\u001b[39m(\u001b[38;5;241m100\u001b[39m):\n\u001b[1;32m      4\u001b[0m     step()\n",
      "File \u001b[0;32m/mnt/lustre/work/ludwig/jthuemmel54/miniforge3/envs/torch/lib/python3.13/site-packages/torch/cuda/memory.py:369\u001b[0m, in \u001b[0;36mreset_peak_memory_stats\u001b[0;34m(device)\u001b[0m\n\u001b[1;32m    354\u001b[0m \u001b[38;5;28;01mdef\u001b[39;00m\u001b[38;5;250m \u001b[39m\u001b[38;5;21mreset_peak_memory_stats\u001b[39m(device: Union[Device, \u001b[38;5;28mint\u001b[39m] \u001b[38;5;241m=\u001b[39m \u001b[38;5;28;01mNone\u001b[39;00m) \u001b[38;5;241m-\u001b[39m\u001b[38;5;241m>\u001b[39m \u001b[38;5;28;01mNone\u001b[39;00m:\n\u001b[1;32m    355\u001b[0m \u001b[38;5;250m    \u001b[39m\u001b[38;5;124mr\u001b[39m\u001b[38;5;124;03m\"\"\"Reset the \"peak\" stats tracked by the CUDA memory allocator.\u001b[39;00m\n\u001b[1;32m    356\u001b[0m \n\u001b[1;32m    357\u001b[0m \u001b[38;5;124;03m    See :func:`~torch.cuda.memory_stats` for details. Peak stats correspond to the\u001b[39;00m\n\u001b[0;32m   (...)\u001b[0m\n\u001b[1;32m    367\u001b[0m \u001b[38;5;124;03m        management.\u001b[39;00m\n\u001b[1;32m    368\u001b[0m \u001b[38;5;124;03m    \"\"\"\u001b[39;00m\n\u001b[0;32m--> 369\u001b[0m     device \u001b[38;5;241m=\u001b[39m \u001b[43m_get_device_index\u001b[49m\u001b[43m(\u001b[49m\u001b[43mdevice\u001b[49m\u001b[43m,\u001b[49m\u001b[43m \u001b[49m\u001b[43moptional\u001b[49m\u001b[38;5;241;43m=\u001b[39;49m\u001b[38;5;28;43;01mTrue\u001b[39;49;00m\u001b[43m)\u001b[49m\n\u001b[1;32m    370\u001b[0m     \u001b[38;5;28;01mreturn\u001b[39;00m torch\u001b[38;5;241m.\u001b[39m_C\u001b[38;5;241m.\u001b[39m_cuda_resetPeakMemoryStats(device)\n",
      "File \u001b[0;32m/mnt/lustre/work/ludwig/jthuemmel54/miniforge3/envs/torch/lib/python3.13/site-packages/torch/cuda/_utils.py:34\u001b[0m, in \u001b[0;36m_get_device_index\u001b[0;34m(device, optional, allow_cpu)\u001b[0m\n\u001b[1;32m     32\u001b[0m             \u001b[38;5;28;01mraise\u001b[39;00m \u001b[38;5;167;01mValueError\u001b[39;00m(\u001b[38;5;124mf\u001b[39m\u001b[38;5;124m\"\u001b[39m\u001b[38;5;124mExpected a cuda or cpu device, but got: \u001b[39m\u001b[38;5;132;01m{\u001b[39;00mdevice\u001b[38;5;132;01m}\u001b[39;00m\u001b[38;5;124m\"\u001b[39m)\n\u001b[1;32m     33\u001b[0m     \u001b[38;5;28;01melif\u001b[39;00m device\u001b[38;5;241m.\u001b[39mtype \u001b[38;5;241m!=\u001b[39m \u001b[38;5;124m\"\u001b[39m\u001b[38;5;124mcuda\u001b[39m\u001b[38;5;124m\"\u001b[39m:\n\u001b[0;32m---> 34\u001b[0m         \u001b[38;5;28;01mraise\u001b[39;00m \u001b[38;5;167;01mValueError\u001b[39;00m(\u001b[38;5;124mf\u001b[39m\u001b[38;5;124m\"\u001b[39m\u001b[38;5;124mExpected a cuda device, but got: \u001b[39m\u001b[38;5;132;01m{\u001b[39;00mdevice\u001b[38;5;132;01m}\u001b[39;00m\u001b[38;5;124m\"\u001b[39m)\n\u001b[1;32m     35\u001b[0m \u001b[38;5;28;01mif\u001b[39;00m \u001b[38;5;129;01mnot\u001b[39;00m torch\u001b[38;5;241m.\u001b[39mjit\u001b[38;5;241m.\u001b[39mis_scripting():\n\u001b[1;32m     36\u001b[0m     \u001b[38;5;28;01mif\u001b[39;00m \u001b[38;5;28misinstance\u001b[39m(device, torch\u001b[38;5;241m.\u001b[39mcuda\u001b[38;5;241m.\u001b[39mdevice):\n",
      "\u001b[0;31mValueError\u001b[0m: Expected a cuda device, but got: cpu"
     ]
    }
   ],
   "source": [
    "start = time.time()\n",
    "torch.cuda.reset_peak_memory_stats(device)\n",
    "for _ in range(100):\n",
    "    step()\n",
    "elapsed = time.time() - start\n",
    "peak_alloc = torch.cuda.max_memory_allocated(device) / (1024**3)\n",
    "\n",
    "print(f\"  • 100‑run time     : {elapsed:.4f} s\")\n",
    "print(f\"  • Peak VRAM (100 runs): {peak_alloc:.1f} GB\")"
   ]
  },
  {
   "cell_type": "code",
   "execution_count": 8,
   "id": "fb9f763b",
   "metadata": {},
   "outputs": [],
   "source": [
    "modal_cfg = Config(C, C, D, F, N)\n",
    "interface_cfg = Config(D, D, D, None, N, 4, 6, 64)"
   ]
  },
  {
   "cell_type": "code",
   "execution_count": null,
   "id": "3d30a8a9",
   "metadata": {},
   "outputs": [],
   "source": []
  },
  {
   "cell_type": "code",
   "execution_count": null,
   "id": "7d45a515",
   "metadata": {},
   "outputs": [],
   "source": []
  },
  {
   "cell_type": "code",
   "execution_count": 9,
   "id": "d9dbf734",
   "metadata": {},
   "outputs": [
    {
     "ename": "AttributeError",
     "evalue": "'Config' object has no attribute 'dim_noise'",
     "output_type": "error",
     "traceback": [
      "\u001b[0;31m---------------------------------------------------------------------------\u001b[0m",
      "\u001b[0;31mAttributeError\u001b[0m                            Traceback (most recent call last)",
      "Cell \u001b[0;32mIn[9], line 1\u001b[0m\n\u001b[0;32m----> 1\u001b[0m model \u001b[38;5;241m=\u001b[39m \u001b[43mModalFuncMTM\u001b[49m\u001b[43m(\u001b[49m\u001b[43mmtm_cfg\u001b[49m\u001b[38;5;241;43m=\u001b[39;49m\u001b[43minterface_cfg\u001b[49m\u001b[43m,\u001b[49m\u001b[43m \u001b[49m\u001b[43mmodal_cfg\u001b[49m\u001b[38;5;241;43m=\u001b[39;49m\u001b[43mmodal_cfg\u001b[49m\u001b[43m)\u001b[49m\u001b[38;5;241m.\u001b[39mto(device)\n\u001b[1;32m      3\u001b[0m compiled \u001b[38;5;241m=\u001b[39m torch\u001b[38;5;241m.\u001b[39mcompile(\n\u001b[1;32m      4\u001b[0m     model, \n\u001b[1;32m      5\u001b[0m     fullgraph\u001b[38;5;241m=\u001b[39m\u001b[38;5;28;01mFalse\u001b[39;00m,\n\u001b[1;32m      6\u001b[0m     dynamic\u001b[38;5;241m=\u001b[39m\u001b[38;5;28;01mTrue\u001b[39;00m,\n\u001b[1;32m      7\u001b[0m     disable\u001b[38;5;241m=\u001b[39m\u001b[38;5;28;01mFalse\u001b[39;00m\n\u001b[1;32m      8\u001b[0m     )\n\u001b[1;32m     10\u001b[0m optim \u001b[38;5;241m=\u001b[39m torch\u001b[38;5;241m.\u001b[39moptim\u001b[38;5;241m.\u001b[39mAdamW(compiled\u001b[38;5;241m.\u001b[39mparameters())\n",
      "File \u001b[0;32m/mnt/lustre/work/ludwig/jthuemmel54/thesis/utils/multimodal.py:88\u001b[0m, in \u001b[0;36mModalFuncMTM.__init__\u001b[0;34m(self, modal_cfg, mtm_cfg)\u001b[0m\n\u001b[1;32m     87\u001b[0m \u001b[38;5;28;01mdef\u001b[39;00m\u001b[38;5;250m \u001b[39m\u001b[38;5;21m__init__\u001b[39m(\u001b[38;5;28mself\u001b[39m, modal_cfg, mtm_cfg):\n\u001b[0;32m---> 88\u001b[0m     \u001b[38;5;28;43msuper\u001b[39;49m\u001b[43m(\u001b[49m\u001b[43m)\u001b[49m\u001b[38;5;241;43m.\u001b[39;49m\u001b[38;5;21;43m__init__\u001b[39;49m\u001b[43m(\u001b[49m\u001b[43mmodal_cfg\u001b[49m\u001b[43m,\u001b[49m\u001b[43m \u001b[49m\u001b[43mmtm_cfg\u001b[49m\u001b[43m)\u001b[49m\n\u001b[1;32m     89\u001b[0m     \u001b[38;5;28mself\u001b[39m\u001b[38;5;241m.\u001b[39mproj_ctx \u001b[38;5;241m=\u001b[39m Linear(mtm_cfg\u001b[38;5;241m.\u001b[39mdim_noise, mtm_cfg\u001b[38;5;241m.\u001b[39mdim_noise)\n\u001b[1;32m     90\u001b[0m     torch\u001b[38;5;241m.\u001b[39mnn\u001b[38;5;241m.\u001b[39minit\u001b[38;5;241m.\u001b[39mtrunc_normal_(\u001b[38;5;28mself\u001b[39m\u001b[38;5;241m.\u001b[39mproj_ctx\u001b[38;5;241m.\u001b[39mweight, std \u001b[38;5;241m=\u001b[39m \u001b[38;5;241m0.02\u001b[39m)\n",
      "File \u001b[0;32m/mnt/lustre/work/ludwig/jthuemmel54/thesis/utils/multimodal.py:12\u001b[0m, in \u001b[0;36mModalMTM.__init__\u001b[0;34m(self, modal_cfg, mtm_cfg)\u001b[0m\n\u001b[1;32m     10\u001b[0m \u001b[38;5;28;01mdef\u001b[39;00m\u001b[38;5;250m \u001b[39m\u001b[38;5;21m__init__\u001b[39m(\u001b[38;5;28mself\u001b[39m, modal_cfg: dataclass, mtm_cfg: dataclass):\n\u001b[1;32m     11\u001b[0m     \u001b[38;5;28msuper\u001b[39m()\u001b[38;5;241m.\u001b[39m\u001b[38;5;21m__init__\u001b[39m()\n\u001b[0;32m---> 12\u001b[0m     \u001b[38;5;28mself\u001b[39m\u001b[38;5;241m.\u001b[39mencoder \u001b[38;5;241m=\u001b[39m \u001b[43mModalEncoder\u001b[49m\u001b[43m(\u001b[49m\u001b[43mmodal_cfg\u001b[49m\u001b[43m)\u001b[49m\n\u001b[1;32m     13\u001b[0m     \u001b[38;5;28mself\u001b[39m\u001b[38;5;241m.\u001b[39mdecoder \u001b[38;5;241m=\u001b[39m ModalDecoder(modal_cfg)\n\u001b[1;32m     14\u001b[0m     \u001b[38;5;28mself\u001b[39m\u001b[38;5;241m.\u001b[39mprocessor \u001b[38;5;241m=\u001b[39m MTM(mtm_cfg)\n",
      "File \u001b[0;32m/mnt/lustre/work/ludwig/jthuemmel54/thesis/utils/networks.py:82\u001b[0m, in \u001b[0;36mModalEncoder.__init__\u001b[0;34m(self, cfg)\u001b[0m\n\u001b[1;32m     80\u001b[0m \u001b[38;5;28mself\u001b[39m\u001b[38;5;241m.\u001b[39mfeature_bias \u001b[38;5;241m=\u001b[39m Embedding(cfg\u001b[38;5;241m.\u001b[39mnum_features, cfg\u001b[38;5;241m.\u001b[39mdim)\n\u001b[1;32m     81\u001b[0m \u001b[38;5;28mself\u001b[39m\u001b[38;5;241m.\u001b[39mqueries \u001b[38;5;241m=\u001b[39m Embedding(\u001b[38;5;241m1\u001b[39m, cfg\u001b[38;5;241m.\u001b[39mdim)       \n\u001b[0;32m---> 82\u001b[0m \u001b[38;5;28mself\u001b[39m\u001b[38;5;241m.\u001b[39mkv_norm \u001b[38;5;241m=\u001b[39m ConditionalLayerNorm(cfg\u001b[38;5;241m.\u001b[39mdim, \u001b[43mcfg\u001b[49m\u001b[38;5;241;43m.\u001b[39;49m\u001b[43mdim_noise\u001b[49m)\n\u001b[1;32m     83\u001b[0m \u001b[38;5;28mself\u001b[39m\u001b[38;5;241m.\u001b[39mcross_attn \u001b[38;5;241m=\u001b[39m TransformerBlock(cfg\u001b[38;5;241m.\u001b[39mdim, dim_ctx\u001b[38;5;241m=\u001b[39mcfg\u001b[38;5;241m.\u001b[39mdim_noise)\n",
      "\u001b[0;31mAttributeError\u001b[0m: 'Config' object has no attribute 'dim_noise'"
     ]
    }
   ],
   "source": [
    "model = ModalFuncMTM(mtm_cfg=interface_cfg, modal_cfg=modal_cfg).to(device)\n",
    "\n",
    "compiled = torch.compile(\n",
    "    model, \n",
    "    fullgraph=False,\n",
    "    dynamic=True,\n",
    "    disable=False\n",
    "    )\n",
    "\n",
    "optim = torch.optim.AdamW(compiled.parameters())\n",
    "print(f'{sum(p.numel() for p in compiled.parameters()):,}') \n",
    "\n",
    "def step():\n",
    "    with autocast(device, torch.float16):\n",
    "        M_src = torch.randint(64, 512, (1,), device=device).item()\n",
    "        M_tgt = torch.randint(768, 1280,(1,), device= device).item()\n",
    "        F_src = torch.randint(16, 32,(1,), device=device).item()\n",
    "        F_tgt = torch.randint(32, 64,(1,), device= device).item()\n",
    "\n",
    "        pos_src = torch.multinomial(torch.ones((B, N), device = device), M_src)\n",
    "        pos_tgt = torch.multinomial(torch.ones((B, N), device = device), M_tgt)\n",
    "        var_src = torch.multinomial(torch.ones((B, F), device = device), F_src)\n",
    "        var_tgt = torch.multinomial(torch.ones((B, F), device = device), F_tgt)\n",
    "        \n",
    "        noise = torch.randn((K * B, 1, 8), device = device)\n",
    "\n",
    "        y = torch.randn((B, M_tgt, F_tgt, C), device = device)\n",
    "        x = torch.randn((B, M_src, F_src, C), device = device)\n",
    "        \n",
    "        x_hat = compiled(x, pos_src = pos_src, pos_tgt = pos_tgt, var_src= var_src, var_tgt=var_tgt, noise=noise)\n",
    "        loss = f_kernel_crps(y, x_hat).mean()\n",
    "        \n",
    "    optim.zero_grad()\n",
    "    loss.backward()\n",
    "    optim.step()\n",
    "    "
   ]
  },
  {
   "cell_type": "code",
   "execution_count": null,
   "id": "c5ce3844",
   "metadata": {},
   "outputs": [
    {
     "name": "stdout",
     "output_type": "stream",
     "text": [
      "  • 100‑run time     : 37.7447 s\n",
      "  • Peak VRAM (100 runs): 28.2 GB\n"
     ]
    }
   ],
   "source": [
    "start = time.time()\n",
    "torch.cuda.reset_peak_memory_stats(device)\n",
    "for _ in range(100):\n",
    "    step()\n",
    "elapsed = time.time() - start\n",
    "peak_alloc = torch.cuda.max_memory_allocated(device) / (1024**3)\n",
    "\n",
    "print(f\"  • 100‑run time     : {elapsed:.4f} s\")\n",
    "print(f\"  • Peak VRAM (100 runs): {peak_alloc:.1f} GB\")"
   ]
  },
  {
   "cell_type": "code",
   "execution_count": null,
   "id": "c264744a",
   "metadata": {},
   "outputs": [
    {
     "ename": "NameError",
     "evalue": "name 'ModalTailMTM' is not defined",
     "output_type": "error",
     "traceback": [
      "\u001b[0;31m---------------------------------------------------------------------------\u001b[0m",
      "\u001b[0;31mNameError\u001b[0m                                 Traceback (most recent call last)",
      "Cell \u001b[0;32mIn[1], line 1\u001b[0m\n\u001b[0;32m----> 1\u001b[0m model \u001b[38;5;241m=\u001b[39m \u001b[43mModalTailMTM\u001b[49m(mtm_cfg\u001b[38;5;241m=\u001b[39minterface_cfg, modal_cfg\u001b[38;5;241m=\u001b[39mmodal_cfg)\u001b[38;5;241m.\u001b[39mto(device)\n\u001b[1;32m      3\u001b[0m compiled \u001b[38;5;241m=\u001b[39m torch\u001b[38;5;241m.\u001b[39mcompile(\n\u001b[1;32m      4\u001b[0m     model, \n\u001b[1;32m      5\u001b[0m     fullgraph\u001b[38;5;241m=\u001b[39m\u001b[38;5;28;01mFalse\u001b[39;00m,\n\u001b[1;32m      6\u001b[0m     dynamic\u001b[38;5;241m=\u001b[39m\u001b[38;5;28;01mTrue\u001b[39;00m,\n\u001b[1;32m      7\u001b[0m     disable\u001b[38;5;241m=\u001b[39m\u001b[38;5;28;01mFalse\u001b[39;00m\n\u001b[1;32m      8\u001b[0m     )\n\u001b[1;32m     10\u001b[0m optim \u001b[38;5;241m=\u001b[39m torch\u001b[38;5;241m.\u001b[39moptim\u001b[38;5;241m.\u001b[39mAdamW(compiled\u001b[38;5;241m.\u001b[39mparameters())\n",
      "\u001b[0;31mNameError\u001b[0m: name 'ModalTailMTM' is not defined"
     ]
    }
   ],
   "source": [
    "model = ModalTailMTM(mtm_cfg=interface_cfg, modal_cfg=modal_cfg).to(device)\n",
    "\n",
    "compiled = torch.compile(\n",
    "    model, \n",
    "    fullgraph=False,\n",
    "    dynamic=True,\n",
    "    disable=False\n",
    "    )\n",
    "\n",
    "optim = torch.optim.AdamW(compiled.parameters())\n",
    "print(f'{sum(p.numel() for p in compiled.parameters()):,}') \n",
    "\n",
    "def step():\n",
    "    with autocast(device, torch.float16):\n",
    "        M_src = torch.randint(64, 512, (1,), device=device).item()\n",
    "        M_tgt = torch.randint(768, 1280,(1,), device= device).item()\n",
    "        F_src = torch.randint(16, 32,(1,), device=device).item()\n",
    "        F_tgt = torch.randint(32, 64,(1,), device= device).item()\n",
    "\n",
    "        pos_src = torch.multinomial(torch.ones((B, N), device = device), M_src)\n",
    "        pos_tgt = torch.multinomial(torch.ones((B, N), device = device), M_tgt)\n",
    "        var_src = torch.multinomial(torch.ones((B, F), device = device), F_src)\n",
    "        var_tgt = torch.multinomial(torch.ones((B, F), device = device), F_tgt)\n",
    "        \n",
    "        noise = torch.randn((K * B, 1, 8), device = device)\n",
    "\n",
    "        y = torch.randn((B, M_tgt, F_tgt, C), device = device)\n",
    "        x = torch.randn((B, M_src, F_src, C), device = device)\n",
    "        \n",
    "        x_hat = compiled(x, pos_src = pos_src, pos_tgt = pos_tgt, var_src= var_src, var_tgt=var_tgt, noise=noise)\n",
    "        loss = f_kernel_crps(y, x_hat).mean()\n",
    "        \n",
    "    optim.zero_grad()\n",
    "    loss.backward()\n",
    "    optim.step()\n"
   ]
  },
  {
   "cell_type": "code",
   "execution_count": 11,
   "id": "6d474cb9",
   "metadata": {},
   "outputs": [
    {
     "name": "stdout",
     "output_type": "stream",
     "text": [
      "  • 100‑run time     : 14.4890 s\n",
      "  • Peak VRAM (100 runs): 8.7 GB\n"
     ]
    }
   ],
   "source": [
    "start = time.time()\n",
    "torch.cuda.reset_peak_memory_stats(device)\n",
    "for _ in range(100):\n",
    "    step()\n",
    "elapsed = time.time() - start\n",
    "peak_alloc = torch.cuda.max_memory_allocated(device) / (1024**3)\n",
    "\n",
    "print(f\"  • 100‑run time     : {elapsed:.4f} s\")\n",
    "print(f\"  • Peak VRAM (100 runs): {peak_alloc:.1f} GB\")"
   ]
  },
  {
   "cell_type": "code",
   "execution_count": 12,
   "id": "599c2cc6",
   "metadata": {},
   "outputs": [
    {
     "name": "stdout",
     "output_type": "stream",
     "text": [
      "102,783,488\n"
     ]
    }
   ],
   "source": [
    "model = ModalMTM(mtm_cfg=interface_cfg, modal_cfg=modal_cfg.__replace__(dim_out=C*K)).to(device)\n",
    "\n",
    "compiled = torch.compile(\n",
    "    model, \n",
    "    fullgraph=False,\n",
    "    dynamic=True,\n",
    "    disable=True\n",
    "    )\n",
    "\n",
    "optim = torch.optim.AdamW(compiled.parameters())\n",
    "print(f'{sum(p.numel() for p in compiled.parameters()):,}') \n",
    "\n",
    "def step():\n",
    "    with autocast(device, torch.float16):\n",
    "        M_src = torch.randint(64, 512, (1,), device=device).item()\n",
    "        M_tgt = torch.randint(768, 1280,(1,), device= device).item()\n",
    "        F_src = torch.randint(16, 32,(1,), device=device).item()\n",
    "        F_tgt = torch.randint(32, 64,(1,), device= device).item()\n",
    "\n",
    "        pos_src = torch.multinomial(torch.ones((B, N), device = device), M_src)\n",
    "        pos_tgt = torch.multinomial(torch.ones((B, N), device = device), M_tgt)\n",
    "        var_src = torch.multinomial(torch.ones((B, F), device = device), F_src)\n",
    "        var_tgt = torch.multinomial(torch.ones((B, F), device = device), F_tgt)\n",
    "        \n",
    "        y = torch.randn((B, M_tgt, F_tgt, C), device = device)\n",
    "        x = torch.randn((B, M_src, F_src, C), device = device)\n",
    "        \n",
    "        x_hat = compiled(x, pos_src = pos_src, pos_tgt = pos_tgt, var_src= var_src, var_tgt=var_tgt)\n",
    "        x_hat = rearrange(x_hat, '... (c k) -> ... c k', k = K)\n",
    "        loss = f_kernel_crps(y, x_hat).mean()\n",
    "        \n",
    "    optim.zero_grad()\n",
    "    loss.backward()\n",
    "    optim.step()\n",
    "    "
   ]
  },
  {
   "cell_type": "code",
   "execution_count": 13,
   "id": "1ea52b93",
   "metadata": {},
   "outputs": [
    {
     "name": "stdout",
     "output_type": "stream",
     "text": [
      "  • 100‑run time     : 13.9080 s\n",
      "  • Peak VRAM (100 runs): 8.2 GB\n"
     ]
    }
   ],
   "source": [
    "start = time.time()\n",
    "torch.cuda.reset_peak_memory_stats(device)\n",
    "for _ in range(100):\n",
    "    step()\n",
    "elapsed = time.time() - start\n",
    "peak_alloc = torch.cuda.max_memory_allocated(device) / (1024**3)\n",
    "\n",
    "print(f\"  • 100‑run time     : {elapsed:.4f} s\")\n",
    "print(f\"  • Peak VRAM (100 runs): {peak_alloc:.1f} GB\")"
   ]
  },
  {
   "cell_type": "code",
   "execution_count": null,
   "id": "5bc735c6",
   "metadata": {},
   "outputs": [],
   "source": []
  },
  {
   "cell_type": "code",
   "execution_count": null,
   "id": "d2f83873",
   "metadata": {},
   "outputs": [],
   "source": []
  },
  {
   "cell_type": "code",
   "execution_count": null,
   "id": "4404e469",
   "metadata": {},
   "outputs": [],
   "source": []
  },
  {
   "cell_type": "code",
   "execution_count": null,
   "id": "cb5d5380",
   "metadata": {},
   "outputs": [
    {
     "name": "stdout",
     "output_type": "stream",
     "text": [
      "  • torch.profiler summary:\n",
      "-------------------------------------------------------  ------------  ------------  ------------  ------------  ------------  ------------  ------------  ------------  ------------  ------------  ------------  ------------  ------------  ------------  \n",
      "                                                   Name    Self CPU %      Self CPU   CPU total %     CPU total  CPU time avg     Self CUDA   Self CUDA %    CUDA total  CUDA time avg       CPU Mem  Self CPU Mem      CUDA Mem  Self CUDA Mem    # of Calls  \n",
      "-------------------------------------------------------  ------------  ------------  ------------  ------------  ------------  ------------  ------------  ------------  ------------  ------------  ------------  ------------  ------------  ------------  \n",
      "                             Torch-Compiled Region: 0/0         0.24%      34.862ms        15.42%        2.262s      46.156ms       0.000us         0.00%        2.477s      50.547ms      28.33 Kb           0 b     768.30 Gb           0 b            49  \n",
      "                                       CompiledFunction         4.66%     683.877ms        15.18%        2.227s      45.444ms       0.000us         0.00%        2.477s      50.547ms      28.33 Kb           0 b     768.30 Gb     737.88 Gb            49  \n",
      "                                            aten::empty         0.61%      89.912ms         0.61%      89.912ms       4.946us       0.000us         0.00%       0.000us       0.000us      28.51 Kb      28.51 Kb     330.95 Gb     330.95 Gb         18179  \n",
      "                                    aten::empty_strided         1.21%     177.607ms         1.21%     177.607ms       5.230us       0.000us         0.00%       0.000us       0.000us           0 b           0 b     199.49 Gb     199.49 Gb         33957  \n",
      "                                       aten::empty_like         0.08%      11.404ms         0.37%      53.903ms       7.190us       0.000us         0.00%       0.000us       0.000us           0 b           0 b     165.48 Gb           0 b          7497  \n",
      "     aten::_scaled_dot_product_flash_attention_backward         0.17%      25.228ms         3.45%     506.401ms     279.317us       0.000us         0.00%        1.612s     889.338us           0 b           0 b     135.90 Gb           0 b          1813  \n",
      "                        aten::_flash_attention_backward         0.23%      34.405ms         3.11%     455.975ms     251.503us        1.612s        17.96%        1.612s     889.338us           0 b           0 b     135.90 Gb    -269.07 Gb          1813  \n",
      "                                            aten::zeros         0.01%       1.426ms         0.07%      10.553ms      23.930us       0.000us         0.00%      36.596ms      82.985us           0 b           0 b      52.06 Gb           0 b           441  \n",
      "                                              aten::abs         0.03%       3.975ms         0.11%      15.438ms      31.506us      32.715ms         0.36%      65.430ms     133.531us           0 b           0 b      42.88 Gb           0 b           490  \n",
      "              aten::_scaled_dot_product_flash_attention         0.12%      18.080ms         0.87%     127.280ms      70.204us       0.000us         0.00%     385.415ms     212.584us      28.33 Kb           0 b      30.42 Gb           0 b          1813  \n",
      "-------------------------------------------------------  ------------  ------------  ------------  ------------  ------------  ------------  ------------  ------------  ------------  ------------  ------------  ------------  ------------  ------------  \n",
      "Self CPU time total: 14.666s\n",
      "Self CUDA time total: 8.980s\n",
      "\n"
     ]
    }
   ],
   "source": [
    "with profile(\n",
    "        activities=[ProfilerActivity.CPU, ProfilerActivity.CUDA],\n",
    "        profile_memory=True,\n",
    "        record_shapes=False,      # ← turn OFF shape logging\n",
    "        with_stack=False,         # ← turn OFF call‐stack\n",
    "        schedule=torch.profiler.schedule(wait=0, warmup=1, active=50, repeat=0)\n",
    "    ) as prof:\n",
    "        for _ in range(50):\n",
    "            step()\n",
    "            prof.step()\n",
    "\n",
    "\n",
    "print(\"  • torch.profiler summary:\")\n",
    "print(prof.key_averages().table(sort_by=\"cuda_memory_usage\", row_limit=10))\n"
   ]
  },
  {
   "cell_type": "code",
   "execution_count": null,
   "id": "11ca3972",
   "metadata": {},
   "outputs": [
    {
     "name": "stderr",
     "output_type": "stream",
     "text": [
      "/mnt/lustre/work/ludwig/jthuemmel54/miniforge3/envs/torch/lib/python3.13/site-packages/torch/profiler/profiler.py:488: UserWarning: Profiler won't be using warmup, this can skew profiler results\n",
      "  warn(\"Profiler won't be using warmup, this can skew profiler results\")\n"
     ]
    },
    {
     "name": "stdout",
     "output_type": "stream",
     "text": [
      "  • 100‑run time     : 30.0844 s\n",
      "  • Peak VRAM (100 runs): 23996.4 MiB\n",
      "  • torch.profiler summary:\n",
      "-------------------------------------------------------  ------------  ------------  ------------  ------------  ------------  ------------  ------------  ------------  ------------  ------------  ------------  ------------  ------------  ------------  \n",
      "                                                   Name    Self CPU %      Self CPU   CPU total %     CPU total  CPU time avg     Self CUDA   Self CUDA %    CUDA total  CUDA time avg       CPU Mem  Self CPU Mem      CUDA Mem  Self CUDA Mem    # of Calls  \n",
      "-------------------------------------------------------  ------------  ------------  ------------  ------------  ------------  ------------  ------------  ------------  ------------  ------------  ------------  ------------  ------------  ------------  \n",
      "                                              aten::mul         0.89%       4.803ms         3.23%      17.426ms      38.812us      44.582ms        15.11%      44.582ms      99.291us           0 b           0 b      20.94 Gb      20.94 Gb           449  \n",
      "                                           aten::linear         0.54%       2.889ms        15.51%      83.642ms     154.322us       0.000us         0.00%      59.451ms     109.688us           0 b           0 b      16.68 Gb      -1.00 Gb           542  \n",
      "                                              aten::div         0.70%       3.749ms         2.49%      13.449ms      39.326us      30.272ms        10.26%      30.272ms      88.516us           0 b           0 b      16.56 Gb      16.56 Gb           342  \n",
      "                                    aten::empty_strided         2.16%      11.662ms         2.16%      11.662ms       5.678us       0.000us         0.00%       0.000us       0.000us           0 b           0 b      15.56 Gb      15.56 Gb          2054  \n",
      "                                               aten::to         0.32%       1.699ms        11.57%      62.429ms      43.353us       0.000us         0.00%      26.358ms      18.304us           0 b           0 b      12.50 Gb           0 b          1440  \n",
      "                                         aten::_to_copy         1.17%       6.336ms        11.26%      60.729ms      42.202us       0.000us         0.00%      26.358ms      18.317us           0 b           0 b      12.50 Gb           0 b          1439  \n",
      "                                               aten::mm         2.91%      15.680ms         5.64%      30.447ms      50.159us      49.725ms        16.85%      49.725ms      81.919us           0 b           0 b       9.46 Gb       9.46 Gb           607  \n",
      "                                           MulBackward0         0.09%     476.704us         1.16%       6.237ms      60.555us       0.000us         0.00%      20.511ms     199.141us           0 b           0 b       9.31 Gb           0 b           103  \n",
      "                                            aten::empty         0.55%       2.986ms         0.55%       2.986ms       4.840us       0.000us         0.00%       0.000us       0.000us         532 b         532 b       8.32 Gb       8.32 Gb           617  \n",
      "                                        ToCopyBackward0         0.17%     930.714us         4.19%      22.626ms      37.031us       0.000us         0.00%      11.235ms      18.387us           0 b           0 b       6.57 Gb           0 b           611  \n",
      "-------------------------------------------------------  ------------  ------------  ------------  ------------  ------------  ------------  ------------  ------------  ------------  ------------  ------------  ------------  ------------  ------------  \n",
      "Self CPU time total: 539.377ms\n",
      "Self CUDA time total: 295.085ms\n",
      "\n",
      "\n",
      "------------------------------------------------------------\n",
      "\n"
     ]
    }
   ],
   "source": [
    "big ambient"
   ]
  },
  {
   "cell_type": "code",
   "execution_count": null,
   "id": "f7745ce8",
   "metadata": {},
   "outputs": [],
   "source": []
  },
  {
   "cell_type": "code",
   "execution_count": null,
   "id": "f6adfd81",
   "metadata": {},
   "outputs": [],
   "source": []
  },
  {
   "cell_type": "code",
   "execution_count": null,
   "id": "279d9bd6",
   "metadata": {},
   "outputs": [],
   "source": []
  },
  {
   "cell_type": "code",
   "execution_count": null,
   "id": "477bcb56",
   "metadata": {},
   "outputs": [
    {
     "name": "stderr",
     "output_type": "stream",
     "text": [
      "/mnt/lustre/work/ludwig/jthuemmel54/miniforge3/envs/torch/lib/python3.13/site-packages/torch/profiler/profiler.py:488: UserWarning: Profiler won't be using warmup, this can skew profiler results\n",
      "  warn(\"Profiler won't be using warmup, this can skew profiler results\")\n"
     ]
    },
    {
     "name": "stdout",
     "output_type": "stream",
     "text": [
      "  • 100‑run time     : 21.2701 s\n",
      "  • Peak VRAM (100 runs): 17726.2 MiB\n",
      "  • torch.profiler summary:\n",
      "-------------------------------------------------------  ------------  ------------  ------------  ------------  ------------  ------------  ------------  ------------  ------------  ------------  ------------  ------------  ------------  ------------  \n",
      "                                                   Name    Self CPU %      Self CPU   CPU total %     CPU total  CPU time avg     Self CUDA   Self CUDA %    CUDA total  CUDA time avg       CPU Mem  Self CPU Mem      CUDA Mem  Self CUDA Mem    # of Calls  \n",
      "-------------------------------------------------------  ------------  ------------  ------------  ------------  ------------  ------------  ------------  ------------  ------------  ------------  ------------  ------------  ------------  ------------  \n",
      "                                              aten::mul         0.42%       2.006ms         3.14%      14.888ms      78.775us      32.266ms        15.10%      32.266ms     170.722us           0 b           0 b      15.05 Gb      15.05 Gb           189  \n",
      "                                              aten::div         0.34%       1.602ms         2.06%       9.733ms      68.541us      22.538ms        10.55%      22.538ms     158.717us           0 b           0 b      12.03 Gb      12.03 Gb           142  \n",
      "                                           aten::linear         0.24%       1.133ms         4.64%      21.993ms      99.068us       0.000us         0.00%      42.143ms     189.834us           0 b           0 b      11.60 Gb      -1.00 Gb           222  \n",
      "                                    aten::empty_strided         1.02%       4.849ms         1.02%       4.849ms       5.678us       0.000us         0.00%       0.000us       0.000us           0 b           0 b      10.99 Gb      10.99 Gb           854  \n",
      "                                               aten::to         0.15%     725.253us         9.27%      43.894ms      73.157us       0.000us         0.00%      18.495ms      30.824us           0 b           0 b       9.03 Gb           0 b           600  \n",
      "                                         aten::_to_copy         0.54%       2.538ms         9.12%      43.169ms      72.068us       0.000us         0.00%      18.495ms      30.876us           0 b           0 b       9.03 Gb           0 b           599  \n",
      "                                            aten::empty         0.30%       1.438ms         0.30%       1.438ms       4.841us       0.000us         0.00%       0.000us       0.000us         212 b         212 b       7.60 Gb       7.60 Gb           297  \n",
      "                                               aten::mm         1.32%       6.259ms         7.32%      34.678ms     140.396us      33.291ms        15.58%      33.291ms     134.780us           0 b           0 b       6.65 Gb       6.65 Gb           247  \n",
      "                                           MulBackward0         0.08%     385.656us         2.18%      10.301ms     239.549us       0.000us         0.00%      14.568ms     338.792us           0 b           0 b       6.59 Gb           0 b            43  \n",
      "                                           DivBackward0         0.07%     327.155us         2.70%      12.766ms     455.937us       0.000us         0.00%      22.117ms     789.889us           0 b           0 b       4.69 Gb      -7.03 Gb            28  \n",
      "-------------------------------------------------------  ------------  ------------  ------------  ------------  ------------  ------------  ------------  ------------  ------------  ------------  ------------  ------------  ------------  ------------  \n",
      "Self CPU time total: 473.589ms\n",
      "Self CUDA time total: 213.666ms\n",
      "\n",
      "\n",
      "------------------------------------------------------------\n",
      "\n"
     ]
    }
   ],
   "source": [
    "ambient src"
   ]
  },
  {
   "cell_type": "code",
   "execution_count": 105,
   "id": "d70a62b5",
   "metadata": {},
   "outputs": [
    {
     "name": "stderr",
     "output_type": "stream",
     "text": [
      "/mnt/lustre/work/ludwig/jthuemmel54/miniforge3/envs/torch/lib/python3.13/site-packages/torch/profiler/profiler.py:488: UserWarning: Profiler won't be using warmup, this can skew profiler results\n",
      "  warn(\"Profiler won't be using warmup, this can skew profiler results\")\n"
     ]
    },
    {
     "name": "stdout",
     "output_type": "stream",
     "text": [
      "  • 100‑run time     : 25.7852 s\n",
      "  • Peak VRAM (100 runs): 20819.7 MiB\n",
      "  • torch.profiler summary:\n",
      "-------------------------------------------------------  ------------  ------------  ------------  ------------  ------------  ------------  ------------  ------------  ------------  ------------  ------------  ------------  ------------  ------------  \n",
      "                                                   Name    Self CPU %      Self CPU   CPU total %     CPU total  CPU time avg     Self CUDA   Self CUDA %    CUDA total  CUDA time avg       CPU Mem  Self CPU Mem      CUDA Mem  Self CUDA Mem    # of Calls  \n",
      "-------------------------------------------------------  ------------  ------------  ------------  ------------  ------------  ------------  ------------  ------------  ------------  ------------  ------------  ------------  ------------  ------------  \n",
      "                                              aten::mul         0.35%       2.006ms         3.09%      17.784ms      94.096us      40.035ms        15.49%      40.035ms     211.824us           0 b           0 b      18.30 Gb      18.30 Gb           189  \n",
      "                                              aten::div         0.27%       1.564ms         1.92%      11.086ms      78.073us      26.633ms        10.30%      26.633ms     187.555us           0 b           0 b      14.53 Gb      14.53 Gb           142  \n",
      "                                           aten::linear         0.19%       1.122ms         4.41%      25.407ms     114.447us       0.000us         0.00%      50.122ms     225.773us           0 b           0 b      14.35 Gb      -1.00 Gb           222  \n",
      "                                    aten::empty_strided         0.82%       4.750ms         0.82%       4.750ms       5.562us       0.000us         0.00%       0.000us       0.000us           0 b           0 b      13.24 Gb      13.24 Gb           854  \n",
      "                                               aten::to         0.13%     734.802us         9.73%      56.061ms      93.436us       0.000us         0.00%      22.251ms      37.084us           0 b           0 b      10.78 Gb           0 b           600  \n",
      "                                         aten::_to_copy         0.44%       2.563ms         9.61%      55.327ms      92.365us       0.000us         0.00%      22.251ms      37.146us           0 b           0 b      10.78 Gb           0 b           599  \n",
      "                                               aten::mm         1.01%       5.795ms         6.29%      36.203ms     146.569us      40.897ms        15.82%      40.897ms     165.574us           0 b           0 b       8.15 Gb       8.15 Gb           247  \n",
      "                                           MulBackward0         0.03%     177.289us         2.04%      11.737ms     272.959us       0.000us         0.00%      18.074ms     420.330us           0 b           0 b       8.09 Gb           0 b            43  \n",
      "                                            aten::empty         0.24%       1.388ms         0.24%       1.388ms       4.722us       0.000us         0.00%       0.000us       0.000us         212 b         212 b       7.57 Gb       7.57 Gb           294  \n",
      "                                           DivBackward0         0.06%     320.638us         2.10%      12.094ms     431.920us       0.000us         0.00%      26.937ms     962.023us           0 b           0 b       5.69 Gb      -8.53 Gb            28  \n",
      "-------------------------------------------------------  ------------  ------------  ------------  ------------  ------------  ------------  ------------  ------------  ------------  ------------  ------------  ------------  ------------  ------------  \n",
      "Self CPU time total: 575.943ms\n",
      "Self CUDA time total: 258.499ms\n",
      "\n",
      "\n",
      "------------------------------------------------------------\n",
      "\n"
     ]
    }
   ],
   "source": [
    "latent src"
   ]
  },
  {
   "cell_type": "code",
   "execution_count": null,
   "id": "afe83cdf",
   "metadata": {},
   "outputs": [
    {
     "name": "stderr",
     "output_type": "stream",
     "text": [
      "/mnt/lustre/work/ludwig/jthuemmel54/miniforge3/envs/torch/lib/python3.13/site-packages/torch/profiler/profiler.py:488: UserWarning: Profiler won't be using warmup, this can skew profiler results\n",
      "  warn(\"Profiler won't be using warmup, this can skew profiler results\")\n"
     ]
    },
    {
     "name": "stdout",
     "output_type": "stream",
     "text": [
      "  • 100‑run time     : 24.6475 s\n",
      "  • Peak VRAM (100 runs): 19914.6 MiB\n",
      "  • torch.profiler summary:\n",
      "-------------------------------------------------------  ------------  ------------  ------------  ------------  ------------  ------------  ------------  ------------  ------------  ------------  ------------  ------------  ------------  ------------  \n",
      "                                                   Name    Self CPU %      Self CPU   CPU total %     CPU total  CPU time avg     Self CUDA   Self CUDA %    CUDA total  CUDA time avg       CPU Mem  Self CPU Mem      CUDA Mem  Self CUDA Mem    # of Calls  \n",
      "-------------------------------------------------------  ------------  ------------  ------------  ------------  ------------  ------------  ------------  ------------  ------------  ------------  ------------  ------------  ------------  ------------  \n",
      "                                              aten::mul         0.45%       2.418ms         3.90%      21.074ms     101.808us      37.754ms        15.25%      37.754ms     182.386us           0 b           0 b      17.18 Gb      17.18 Gb           207  \n",
      "                                              aten::div         0.32%       1.757ms         3.57%      19.290ms     122.865us      24.706ms         9.98%      24.706ms     157.361us           0 b           0 b      13.71 Gb      13.71 Gb           157  \n",
      "                                           aten::linear         0.24%       1.288ms         4.26%      23.006ms      96.664us       0.000us         0.00%      46.950ms     197.269us           0 b           0 b      13.15 Gb      -1.00 Gb           238  \n",
      "                                    aten::empty_strided         0.98%       5.319ms         0.98%       5.319ms       5.653us       0.000us         0.00%       0.000us       0.000us           0 b           0 b      11.79 Gb      11.79 Gb           941  \n",
      "                                               aten::to         0.14%     768.231us         6.83%      36.937ms      55.212us       0.000us         0.00%      19.878ms      29.713us           0 b           0 b       9.52 Gb           0 b           669  \n",
      "                                         aten::_to_copy         0.53%       2.848ms         6.69%      36.169ms      54.145us       0.000us         0.00%      19.878ms      29.757us           0 b           0 b       9.52 Gb           0 b           668  \n",
      "                                            aten::empty         0.31%       1.698ms         0.31%       1.698ms       4.965us       0.000us         0.00%       0.000us       0.000us         228 b         228 b       8.11 Gb       8.11 Gb           342  \n",
      "                                           MulBackward0         0.04%     205.076us         1.85%      10.021ms     213.221us       0.000us         0.00%      16.937ms     360.361us           0 b           0 b       7.57 Gb           0 b            47  \n",
      "                                               aten::mm         1.07%       5.800ms         4.24%      22.926ms      95.923us      37.931ms        15.32%      37.931ms     158.707us           0 b           0 b       7.52 Gb       7.52 Gb           239  \n",
      "                                           DivBackward0         0.07%     364.405us         4.45%      24.044ms     775.609us       0.000us         0.00%      25.310ms     816.449us           0 b           0 b       5.36 Gb      -8.04 Gb            31  \n",
      "-------------------------------------------------------  ------------  ------------  ------------  ------------  ------------  ------------  ------------  ------------  ------------  ------------  ------------  ------------  ------------  ------------  \n",
      "Self CPU time total: 540.550ms\n",
      "Self CUDA time total: 247.543ms\n",
      "\n",
      "\n",
      "------------------------------------------------------------\n",
      "\n"
     ]
    }
   ],
   "source": [
    "self vit"
   ]
  },
  {
   "cell_type": "code",
   "execution_count": null,
   "id": "1f3fb79f",
   "metadata": {},
   "outputs": [
    {
     "name": "stderr",
     "output_type": "stream",
     "text": [
      "/mnt/lustre/work/ludwig/jthuemmel54/miniforge3/envs/torch/lib/python3.13/site-packages/torch/profiler/profiler.py:488: UserWarning: Profiler won't be using warmup, this can skew profiler results\n",
      "  warn(\"Profiler won't be using warmup, this can skew profiler results\")\n"
     ]
    },
    {
     "name": "stdout",
     "output_type": "stream",
     "text": [
      "  • 100‑run time     : 24.0923 s\n",
      "  • Peak VRAM (100 runs): 19592.8 MiB\n",
      "  • torch.profiler summary:\n",
      "-------------------------------------------------------  ------------  ------------  ------------  ------------  ------------  ------------  ------------  ------------  ------------  ------------  ------------  ------------  ------------  ------------  \n",
      "                                                   Name    Self CPU %      Self CPU   CPU total %     CPU total  CPU time avg     Self CUDA   Self CUDA %    CUDA total  CUDA time avg       CPU Mem  Self CPU Mem      CUDA Mem  Self CUDA Mem    # of Calls  \n",
      "-------------------------------------------------------  ------------  ------------  ------------  ------------  ------------  ------------  ------------  ------------  ------------  ------------  ------------  ------------  ------------  ------------  \n",
      "                                              aten::mul         0.41%       2.170ms         2.63%      13.929ms      67.290us      36.885ms        15.26%      36.885ms     178.190us           0 b           0 b      16.78 Gb      16.78 Gb           207  \n",
      "                                              aten::div         0.33%       1.747ms         2.93%      15.495ms      98.691us      24.149ms         9.99%      24.149ms     153.818us           0 b           0 b      13.40 Gb      13.40 Gb           157  \n",
      "                                           aten::linear         0.24%       1.253ms         4.28%      22.653ms      95.181us       0.000us         0.00%      45.682ms     191.941us           0 b           0 b      12.90 Gb      -1.00 Gb           238  \n",
      "                                    aten::empty_strided         0.99%       5.232ms         0.99%       5.232ms       5.560us       0.000us         0.00%       0.000us       0.000us           0 b           0 b      11.64 Gb      11.64 Gb           941  \n",
      "                                               aten::to         0.14%     760.400us         6.94%      36.714ms      54.878us       0.000us         0.00%      19.631ms      29.343us           0 b           0 b       9.39 Gb           0 b           669  \n",
      "                                         aten::_to_copy         0.53%       2.781ms         6.80%      35.953ms      53.822us       0.000us         0.00%      19.631ms      29.387us           0 b           0 b       9.39 Gb           0 b           668  \n",
      "                                            aten::empty         0.31%       1.640ms         0.31%       1.640ms       4.837us       0.000us         0.00%       0.000us       0.000us         228 b         228 b       7.79 Gb       7.79 Gb           339  \n",
      "                                           MulBackward0         0.04%     200.167us         0.98%       5.183ms     110.277us       0.000us         0.00%      16.564ms     352.423us           0 b           0 b       7.38 Gb           0 b            47  \n",
      "                                               aten::mm         1.08%       5.740ms         6.90%      36.529ms     152.841us      37.356ms        15.46%      37.356ms     156.300us           0 b           0 b       7.37 Gb       7.37 Gb           239  \n",
      "                                           DivBackward0         0.07%     355.687us         4.05%      21.427ms     691.201us       0.000us         0.00%      24.737ms     797.968us           0 b           0 b       5.23 Gb      -7.85 Gb            31  \n",
      "-------------------------------------------------------  ------------  ------------  ------------  ------------  ------------  ------------  ------------  ------------  ------------  ------------  ------------  ------------  ------------  ------------  \n",
      "Self CPU time total: 529.098ms\n",
      "Self CUDA time total: 241.668ms\n",
      "\n",
      "\n",
      "------------------------------------------------------------\n",
      "\n"
     ]
    }
   ],
   "source": [
    "cross vit"
   ]
  },
  {
   "cell_type": "code",
   "execution_count": null,
   "id": "8bdd8a37",
   "metadata": {},
   "outputs": [],
   "source": []
  },
  {
   "cell_type": "code",
   "execution_count": null,
   "id": "3026f0e7",
   "metadata": {},
   "outputs": [],
   "source": []
  },
  {
   "cell_type": "code",
   "execution_count": null,
   "id": "825ab23c",
   "metadata": {},
   "outputs": [],
   "source": []
  },
  {
   "cell_type": "code",
   "execution_count": null,
   "id": "93f55fdb",
   "metadata": {},
   "outputs": [
    {
     "name": "stderr",
     "output_type": "stream",
     "text": [
      "/mnt/lustre/work/ludwig/jthuemmel54/miniforge3/envs/torch/lib/python3.13/site-packages/torch/profiler/profiler.py:488: UserWarning: Profiler won't be using warmup, this can skew profiler results\n",
      "  warn(\"Profiler won't be using warmup, this can skew profiler results\")\n"
     ]
    },
    {
     "name": "stdout",
     "output_type": "stream",
     "text": [
      "  • 100‑run time     : 7.4787 s\n",
      "  • Peak VRAM (100 runs): 6439.1 MiB\n",
      "  • torch.profiler summary:\n",
      "-------------------------------------------------------  ------------  ------------  ------------  ------------  ------------  ------------  ------------  ------------  ------------  ------------  ------------  ------------  ------------  ------------  \n",
      "                                                   Name    Self CPU %      Self CPU   CPU total %     CPU total  CPU time avg     Self CUDA   Self CUDA %    CUDA total  CUDA time avg       CPU Mem  Self CPU Mem      CUDA Mem  Self CUDA Mem    # of Calls  \n",
      "-------------------------------------------------------  ------------  ------------  ------------  ------------  ------------  ------------  ------------  ------------  ------------  ------------  ------------  ------------  ------------  ------------  \n",
      "                                              aten::mul         1.38%       1.955ms         3.99%       5.643ms      29.544us       4.105ms         5.60%       4.105ms      21.491us           0 b           0 b       1.84 Gb       1.84 Gb           191  \n",
      "                                               aten::mm         3.02%       4.275ms         4.45%       6.296ms      27.255us      43.468ms        59.29%      43.468ms     188.175us           0 b           0 b       1.46 Gb       1.46 Gb           231  \n",
      "                                            aten::empty         1.03%       1.451ms         1.03%       1.451ms       4.805us       0.000us         0.00%       0.000us       0.000us         212 b         212 b       1.36 Gb       1.36 Gb           302  \n",
      "                                              aten::div         1.01%       1.422ms         2.53%       3.574ms      26.673us       2.363ms         3.22%       2.363ms      17.632us           0 b           0 b       1.23 Gb       1.23 Gb           134  \n",
      "                                           aten::linear         0.37%     518.638us         4.77%       6.752ms      60.826us       0.000us         0.00%      16.787ms     151.236us           0 b           0 b       1.08 Gb           0 b           111  \n",
      "                                           aten::matmul         0.12%     171.019us         1.11%       1.571ms      52.359us       0.000us         0.00%      13.208ms     440.265us           0 b           0 b     977.50 Mb           0 b            30  \n",
      "                                           MulBackward0         0.11%     156.080us         1.95%       2.761ms      69.025us       0.000us         0.00%       1.894ms      47.357us           0 b           0 b     848.00 Mb           0 b            40  \n",
      "                                              aten::add         0.93%       1.313ms         1.40%       1.974ms      19.741us       1.318ms         1.80%       1.318ms      13.180us           0 b           0 b     620.62 Mb     620.62 Mb           100  \n",
      "                                            MmBackward0         0.17%     240.448us         1.41%       2.000ms      71.444us       0.000us         0.00%      25.437ms     908.461us           0 b           0 b     607.50 Mb           0 b            28  \n",
      "                                           DivBackward0         0.20%     285.389us         3.26%       4.616ms     177.524us       0.000us         0.00%       2.381ms      91.571us           0 b           0 b     484.00 Mb    -726.00 Mb            26  \n",
      "-------------------------------------------------------  ------------  ------------  ------------  ------------  ------------  ------------  ------------  ------------  ------------  ------------  ------------  ------------  ------------  ------------  \n",
      "Self CPU time total: 141.415ms\n",
      "Self CUDA time total: 73.311ms\n",
      "\n",
      "\n",
      "------------------------------------------------------------\n",
      "\n"
     ]
    }
   ],
   "source": [
    "perceiver"
   ]
  },
  {
   "cell_type": "code",
   "execution_count": null,
   "id": "74596701",
   "metadata": {},
   "outputs": [
    {
     "name": "stderr",
     "output_type": "stream",
     "text": [
      "/mnt/lustre/work/ludwig/jthuemmel54/miniforge3/envs/torch/lib/python3.13/site-packages/torch/profiler/profiler.py:488: UserWarning: Profiler won't be using warmup, this can skew profiler results\n",
      "  warn(\"Profiler won't be using warmup, this can skew profiler results\")\n"
     ]
    },
    {
     "name": "stdout",
     "output_type": "stream",
     "text": [
      "  • 100‑run time     : 10.4159 s\n",
      "  • Peak VRAM (100 runs): 7261.3 MiB\n",
      "  • torch.profiler summary:\n",
      "-------------------------------------------------------  ------------  ------------  ------------  ------------  ------------  ------------  ------------  ------------  ------------  ------------  ------------  ------------  ------------  ------------  \n",
      "                                                   Name    Self CPU %      Self CPU   CPU total %     CPU total  CPU time avg     Self CUDA   Self CUDA %    CUDA total  CUDA time avg       CPU Mem  Self CPU Mem      CUDA Mem  Self CUDA Mem    # of Calls  \n",
      "-------------------------------------------------------  ------------  ------------  ------------  ------------  ------------  ------------  ------------  ------------  ------------  ------------  ------------  ------------  ------------  ------------  \n",
      "                                              aten::mul         0.98%       2.128ms         2.31%       5.002ms      24.761us       5.063ms         4.87%       5.063ms      25.064us           0 b           0 b       2.56 Gb       2.56 Gb           202  \n",
      "                                               aten::mm         2.13%       4.607ms         8.21%      17.737ms      71.808us      62.940ms        60.57%      62.940ms     254.816us           0 b           0 b       1.96 Gb       1.96 Gb           247  \n",
      "                                              aten::div         0.70%       1.520ms         2.33%       5.026ms      35.396us       2.960ms         2.85%       2.960ms      20.845us           0 b           0 b       1.66 Gb       1.66 Gb           142  \n",
      "                                            aten::empty         0.71%       1.532ms         0.71%       1.532ms       4.894us       0.000us         0.00%       0.000us       0.000us         212 b         212 b       1.57 Gb       1.57 Gb           313  \n",
      "                                           aten::linear         0.25%     546.274us         3.04%       6.578ms      59.257us       0.000us         0.00%      23.818ms     214.578us           0 b           0 b       1.44 Gb           0 b           111  \n",
      "                                           MulBackward0         0.08%     167.939us         1.16%       2.510ms      58.382us       0.000us         0.00%       2.409ms      56.031us           0 b           0 b       1.18 Gb           0 b            43  \n",
      "                                           aten::matmul         0.07%     156.340us         0.67%       1.450ms      48.328us       0.000us         0.00%      17.319ms     577.305us           0 b           0 b       1.15 Gb           0 b            30  \n",
      "                                              aten::add         0.61%       1.318ms         0.91%       1.968ms      19.677us       1.559ms         1.50%       1.559ms      15.586us           0 b           0 b     819.12 Mb     819.12 Mb           100  \n",
      "                                            MmBackward0         0.12%     254.398us         3.11%       6.726ms     224.193us       0.000us         0.00%      34.437ms       1.148ms           0 b           0 b     743.00 Mb           0 b            30  \n",
      "                                           DivBackward0         0.14%     313.320us         1.79%       3.877ms     138.468us       0.000us         0.00%       2.887ms     103.100us           0 b           0 b     662.00 Mb    -994.00 Mb            28  \n",
      "-------------------------------------------------------  ------------  ------------  ------------  ------------  ------------  ------------  ------------  ------------  ------------  ------------  ------------  ------------  ------------  ------------  \n",
      "Self CPU time total: 216.125ms\n",
      "Self CUDA time total: 103.921ms\n",
      "\n",
      "\n",
      "------------------------------------------------------------\n",
      "\n"
     ]
    }
   ],
   "source": [
    "cross vit"
   ]
  },
  {
   "cell_type": "code",
   "execution_count": 39,
   "id": "031ebb89",
   "metadata": {},
   "outputs": [
    {
     "name": "stderr",
     "output_type": "stream",
     "text": [
      "/mnt/lustre/work/ludwig/jthuemmel54/miniforge3/envs/torch/lib/python3.13/site-packages/torch/profiler/profiler.py:488: UserWarning: Profiler won't be using warmup, this can skew profiler results\n",
      "  warn(\"Profiler won't be using warmup, this can skew profiler results\")\n"
     ]
    },
    {
     "name": "stdout",
     "output_type": "stream",
     "text": [
      "  • 100‑run time     : 18.4837 s\n",
      "  • Peak VRAM (100 runs): 8789.8 MiB\n",
      "  • torch.profiler summary:\n",
      "-------------------------------------------------------  ------------  ------------  ------------  ------------  ------------  ------------  ------------  ------------  ------------  ------------  ------------  ------------  ------------  ------------  \n",
      "                                                   Name    Self CPU %      Self CPU   CPU total %     CPU total  CPU time avg     Self CUDA   Self CUDA %    CUDA total  CUDA time avg       CPU Mem  Self CPU Mem      CUDA Mem  Self CUDA Mem    # of Calls  \n",
      "-------------------------------------------------------  ------------  ------------  ------------  ------------  ------------  ------------  ------------  ------------  ------------  ------------  ------------  ------------  ------------  ------------  \n",
      "                                              aten::mul         0.55%       2.124ms         5.08%      19.593ms      96.993us       8.241ms         4.45%       8.241ms      40.796us           0 b           0 b       3.98 Gb       3.98 Gb           202  \n",
      "                                               aten::mm         1.23%       4.748ms         7.72%      29.771ms     120.042us     100.793ms        54.41%     100.793ms     406.424us           0 b           0 b       2.98 Gb       2.98 Gb           248  \n",
      "                                              aten::div         0.40%       1.550ms         4.16%      16.038ms     112.943us       4.378ms         2.36%       4.378ms      30.833us           0 b           0 b       2.48 Gb       2.48 Gb           142  \n",
      "                                           aten::linear         0.15%     559.564us         4.51%      17.408ms     156.826us       0.000us         0.00%      38.473ms     346.600us           0 b           0 b       2.20 Gb           0 b           111  \n",
      "                                            aten::empty         0.41%       1.577ms         0.41%       1.577ms       4.974us       0.000us         0.00%       0.000us       0.000us         212 b         212 b       2.05 Gb       2.05 Gb           317  \n",
      "                                           MulBackward0         0.04%     171.340us         2.53%       9.764ms     227.072us       0.000us         0.00%       3.930ms      91.399us           0 b           0 b       1.85 Gb           0 b            43  \n",
      "                                           aten::matmul         0.04%     163.438us         1.50%       5.778ms     186.387us       0.000us         0.00%      26.161ms     843.895us           0 b           0 b       1.60 Gb           0 b            31  \n",
      "                                              aten::add         0.34%       1.305ms         1.94%       7.466ms      74.661us       2.436ms         1.31%       2.436ms      24.356us           0 b           0 b       1.20 Gb       1.20 Gb           100  \n",
      "                                            MmBackward0         0.08%     299.835us         1.83%       7.063ms     227.835us       0.000us         0.00%      52.584ms       1.696ms           0 b           0 b    1019.50 Mb           0 b            31  \n",
      "                                           DivBackward0         0.08%     308.067us         3.79%      14.619ms     522.122us       0.000us         0.00%       4.501ms     160.752us           0 b           0 b    1001.00 Mb      -1.47 Gb            28  \n",
      "-------------------------------------------------------  ------------  ------------  ------------  ------------  ------------  ------------  ------------  ------------  ------------  ------------  ------------  ------------  ------------  ------------  \n",
      "Self CPU time total: 385.650ms\n",
      "Self CUDA time total: 185.241ms\n",
      "\n",
      "\n",
      "------------------------------------------------------------\n",
      "\n"
     ]
    }
   ],
   "source": [
    "self vit"
   ]
  },
  {
   "cell_type": "code",
   "execution_count": null,
   "id": "1740da17",
   "metadata": {},
   "outputs": [
    {
     "name": "stderr",
     "output_type": "stream",
     "text": [
      "/mnt/lustre/work/ludwig/jthuemmel54/miniforge3/envs/torch/lib/python3.13/site-packages/torch/profiler/profiler.py:488: UserWarning: Profiler won't be using warmup, this can skew profiler results\n",
      "  warn(\"Profiler won't be using warmup, this can skew profiler results\")\n"
     ]
    },
    {
     "name": "stdout",
     "output_type": "stream",
     "text": [
      "  • 100‑run time     : 8.9925 s\n",
      "  • Peak VRAM (100 runs): 3137.7 MiB\n",
      "  • torch.profiler summary:\n",
      "-------------------------------------------------------  ------------  ------------  ------------  ------------  ------------  ------------  ------------  ------------  ------------  ------------  ------------  ------------  ------------  ------------  \n",
      "                                                   Name    Self CPU %      Self CPU   CPU total %     CPU total  CPU time avg     Self CUDA   Self CUDA %    CUDA total  CUDA time avg       CPU Mem  Self CPU Mem      CUDA Mem  Self CUDA Mem    # of Calls  \n",
      "-------------------------------------------------------  ------------  ------------  ------------  ------------  ------------  ------------  ------------  ------------  ------------  ------------  ------------  ------------  ------------  ------------  \n",
      "                                              aten::mul         1.19%       2.055ms         1.90%       3.293ms      16.300us       4.957ms         5.65%       4.957ms      24.541us           0 b           0 b       2.22 Gb       2.22 Gb           202  \n",
      "                                               aten::mm         2.60%       4.504ms         4.48%       7.750ms      31.251us      52.759ms        60.09%      52.759ms     212.737us           0 b           0 b       1.74 Gb       1.74 Gb           248  \n",
      "                                            aten::empty         0.88%       1.529ms         0.88%       1.529ms       4.838us       0.000us         0.00%       0.000us       0.000us         212 b         212 b       1.53 Gb       1.53 Gb           316  \n",
      "                                              aten::div         0.86%       1.483ms         1.36%       2.346ms      16.524us       2.761ms         3.14%       2.761ms      19.446us           0 b           0 b       1.46 Gb       1.46 Gb           142  \n",
      "                                           aten::linear         0.31%     536.625us         3.78%       6.546ms      58.977us       0.000us         0.00%      19.472ms     175.423us           0 b           0 b       1.27 Gb           0 b           111  \n",
      "                                           aten::matmul         0.09%     162.985us         0.89%       1.544ms      49.799us       0.000us         0.00%      15.052ms     485.562us           0 b           0 b       1.08 Gb           0 b            31  \n",
      "                                           MulBackward0         0.09%     163.740us         0.90%       1.563ms      36.348us       0.000us         0.00%       2.319ms      53.934us           0 b           0 b       1.02 Gb           0 b            43  \n",
      "                                            MmBackward0         0.17%     287.457us         1.43%       2.471ms      79.723us       0.000us         0.00%      30.463ms     982.678us           0 b           0 b     702.00 Mb           0 b            31  \n",
      "                                              aten::add         0.74%       1.276ms         1.10%       1.913ms      19.319us       1.449ms         1.65%       1.449ms      14.631us           0 b           0 b     681.12 Mb     681.12 Mb            99  \n",
      "                                           DivBackward0         0.16%     283.095us         1.31%       2.260ms      80.730us       0.000us         0.00%       2.834ms     101.225us           0 b           0 b     580.00 Mb    -870.00 Mb            28  \n",
      "-------------------------------------------------------  ------------  ------------  ------------  ------------  ------------  ------------  ------------  ------------  ------------  ------------  ------------  ------------  ------------  ------------  \n",
      "Self CPU time total: 173.097ms\n",
      "Self CUDA time total: 87.807ms\n",
      "\n",
      "\n",
      "------------------------------------------------------------\n",
      "\n"
     ]
    }
   ],
   "source": [
    "ambient src"
   ]
  },
  {
   "cell_type": "code",
   "execution_count": null,
   "id": "b42dda76",
   "metadata": {},
   "outputs": [
    {
     "name": "stderr",
     "output_type": "stream",
     "text": [
      "/mnt/lustre/work/ludwig/jthuemmel54/miniforge3/envs/torch/lib/python3.13/site-packages/torch/profiler/profiler.py:488: UserWarning: Profiler won't be using warmup, this can skew profiler results\n",
      "  warn(\"Profiler won't be using warmup, this can skew profiler results\")\n"
     ]
    },
    {
     "name": "stdout",
     "output_type": "stream",
     "text": [
      "  • 100‑run time     : 11.7760 s\n",
      "  • Peak VRAM (100 runs): 3724.0 MiB\n",
      "  • torch.profiler summary:\n",
      "-------------------------------------------------------  ------------  ------------  ------------  ------------  ------------  ------------  ------------  ------------  ------------  ------------  ------------  ------------  ------------  ------------  \n",
      "                                                   Name    Self CPU %      Self CPU   CPU total %     CPU total  CPU time avg     Self CUDA   Self CUDA %    CUDA total  CUDA time avg       CPU Mem  Self CPU Mem      CUDA Mem  Self CUDA Mem    # of Calls  \n",
      "-------------------------------------------------------  ------------  ------------  ------------  ------------  ------------  ------------  ------------  ------------  ------------  ------------  ------------  ------------  ------------  ------------  \n",
      "                                              aten::mul         1.44%       2.335ms         2.18%       3.534ms      17.497us       5.444ms         4.95%       5.444ms      26.951us           0 b           0 b       2.76 Gb       2.76 Gb           202  \n",
      "                                               aten::mm         2.84%       4.615ms         4.27%       6.931ms      28.060us      66.164ms        60.22%      66.164ms     267.871us           0 b           0 b       2.11 Gb       2.11 Gb           247  \n",
      "                                              aten::div         0.93%       1.515ms         1.46%       2.370ms      16.690us       3.100ms         2.82%       3.100ms      21.833us           0 b           0 b       1.77 Gb       1.77 Gb           142  \n",
      "                                            aten::empty         0.96%       1.550ms         0.96%       1.550ms       4.953us       0.000us         0.00%       0.000us       0.000us         212 b         212 b       1.63 Gb       1.63 Gb           313  \n",
      "                                           aten::linear         0.81%       1.320ms         6.16%      10.002ms      90.108us       0.000us         0.00%      24.767ms     223.124us           0 b           0 b       1.54 Gb           0 b           111  \n",
      "                                           MulBackward0         0.10%     162.087us         0.96%       1.557ms      36.207us       0.000us         0.00%       2.604ms      60.568us           0 b           0 b       1.27 Gb           0 b            43  \n",
      "                                           aten::matmul         0.10%     165.818us         2.18%       3.532ms     117.749us       0.000us         0.00%      17.754ms     591.787us           0 b           0 b       1.21 Gb           0 b            30  \n",
      "                                              aten::add         0.79%       1.289ms         1.19%       1.929ms      19.482us       1.627ms         1.48%       1.627ms      16.431us           0 b           0 b     865.12 Mb     865.12 Mb            99  \n",
      "                                            MmBackward0         0.15%     242.537us         1.36%       2.205ms      73.485us       0.000us         0.00%      35.964ms       1.199ms           0 b           0 b     781.00 Mb           0 b            30  \n",
      "                                           DivBackward0         0.20%     320.155us         1.41%       2.293ms      81.889us       0.000us         0.00%       3.073ms     109.742us           0 b           0 b     708.50 Mb      -1.04 Gb            28  \n",
      "-------------------------------------------------------  ------------  ------------  ------------  ------------  ------------  ------------  ------------  ------------  ------------  ------------  ------------  ------------  ------------  ------------  \n",
      "Self CPU time total: 162.294ms\n",
      "Self CUDA time total: 109.879ms\n",
      "\n",
      "\n",
      "------------------------------------------------------------\n",
      "\n"
     ]
    }
   ],
   "source": [
    "latent src\n"
   ]
  },
  {
   "cell_type": "code",
   "execution_count": null,
   "id": "a66e4044",
   "metadata": {},
   "outputs": [],
   "source": []
  },
  {
   "cell_type": "code",
   "execution_count": null,
   "id": "8e0019a5",
   "metadata": {},
   "outputs": [],
   "source": []
  }
 ],
 "metadata": {
  "kernelspec": {
   "display_name": "torch",
   "language": "python",
   "name": "python3"
  },
  "language_info": {
   "codemirror_mode": {
    "name": "ipython",
    "version": 3
   },
   "file_extension": ".py",
   "mimetype": "text/x-python",
   "name": "python",
   "nbconvert_exporter": "python",
   "pygments_lexer": "ipython3",
   "version": "3.13.2"
  }
 },
 "nbformat": 4,
 "nbformat_minor": 5
}
