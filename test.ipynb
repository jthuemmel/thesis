{
 "cells": [
  {
   "cell_type": "code",
   "execution_count": 6,
   "id": "d7514df2",
   "metadata": {},
   "outputs": [],
   "source": [
    "import torch\n",
    "import einops\n",
    "\n",
    "from utils.objective import AnyOrder_RIN\n",
    "from utils.config import *\n",
    "from utils.loss_fn import f_kernel_crps"
   ]
  },
  {
   "cell_type": "code",
   "execution_count": 2,
   "id": "c0621a46",
   "metadata": {},
   "outputs": [],
   "source": [
    "world = WorldConfig(\n",
    "    field_sizes = {'v': 4, 't': 36, 'h': 64, 'w': 120},\n",
    "    patch_sizes={'vv': 4, 'tt': 6, 'hh': 4, 'ww': 4},\n",
    "    batch_size=2,\n",
    "    tau=2,\n",
    ")\n",
    "\n",
    "model = NetworkConfig(\n",
    "    dim = 128,\n",
    "    num_layers=4,\n",
    "    num_compute_blocks=4,\n",
    "    num_latents=256,\n",
    "    dim_noise=32,\n",
    ")\n"
   ]
  },
  {
   "cell_type": "code",
   "execution_count": 3,
   "id": "8e3c7160",
   "metadata": {},
   "outputs": [],
   "source": [
    "ao_rin = AnyOrder_RIN(world = world, model =model, device = 'cpu')"
   ]
  },
  {
   "cell_type": "code",
   "execution_count": 29,
   "id": "15011683",
   "metadata": {},
   "outputs": [],
   "source": [
    "tokens = torch.randn((world.batch_size, world.num_tokens, world.dim_tokens), device = ao_rin.device)\n",
    "\n",
    "pred, mask, weights = ao_rin(tokens, num_steps = 2, num_ensemble = 4, prior = 'dirichlet', schedule = 'cosine')\n",
    "\n",
    "tokens, pred = map(lambda x: einops.rearrange(x, \n",
    "                                              f'{world.flatland_pattern} ... -> {world.field_pattern} ...', \n",
    "                                              **world.token_sizes, **world.patch_sizes), \n",
    "                                              (tokens, pred)\n",
    "                                              )\n",
    "mask = einops.repeat(mask, f'b {world.flat_token_pattern} -> {world.field_pattern}', **world.token_sizes, **world.patch_sizes)\n",
    "weights = einops.repeat(weights, f'b 1 -> {world.field_pattern}', **world.token_sizes, **world.patch_sizes)"
   ]
  },
  {
   "cell_type": "code",
   "execution_count": 30,
   "id": "7a3b69dc",
   "metadata": {},
   "outputs": [
    {
     "name": "stdout",
     "output_type": "stream",
     "text": [
      "torch.Size([2, 4, 36, 64, 120, 4]) torch.Size([2, 4, 36, 64, 120]) torch.Size([2, 4, 36, 64, 120])\n"
     ]
    }
   ],
   "source": [
    "print(pred.shape, mask.shape, weights.shape)"
   ]
  },
  {
   "cell_type": "code",
   "execution_count": null,
   "id": "46a87e50",
   "metadata": {},
   "outputs": [],
   "source": []
  },
  {
   "cell_type": "code",
   "execution_count": 32,
   "id": "8fb3cf75",
   "metadata": {},
   "outputs": [],
   "source": [
    "loss = f_kernel_crps(observation=tokens, ensemble=pred, fair=True)\n",
    "masked_loss = (loss * weights)[mask].mean()"
   ]
  },
  {
   "cell_type": "code",
   "execution_count": 33,
   "id": "adcf2be0",
   "metadata": {},
   "outputs": [
    {
     "data": {
      "text/plain": [
       "torch.Size([2, 4, 36, 64, 120])"
      ]
     },
     "execution_count": 33,
     "metadata": {},
     "output_type": "execute_result"
    }
   ],
   "source": [
    "loss.shape"
   ]
  },
  {
   "cell_type": "code",
   "execution_count": null,
   "id": "ad4deea8",
   "metadata": {},
   "outputs": [],
   "source": []
  },
  {
   "cell_type": "code",
   "execution_count": null,
   "id": "af5b8c1d",
   "metadata": {},
   "outputs": [],
   "source": []
  },
  {
   "cell_type": "code",
   "execution_count": null,
   "id": "ee7dcbf9",
   "metadata": {},
   "outputs": [],
   "source": []
  }
 ],
 "metadata": {
  "kernelspec": {
   "display_name": "torch",
   "language": "python",
   "name": "python3"
  },
  "language_info": {
   "codemirror_mode": {
    "name": "ipython",
    "version": 3
   },
   "file_extension": ".py",
   "mimetype": "text/x-python",
   "name": "python",
   "nbconvert_exporter": "python",
   "pygments_lexer": "ipython3",
   "version": "3.13.2"
  }
 },
 "nbformat": 4,
 "nbformat_minor": 5
}
